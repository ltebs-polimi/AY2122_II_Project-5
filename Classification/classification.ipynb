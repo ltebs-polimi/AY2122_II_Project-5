{
 "cells": [
  {
   "cell_type": "markdown",
   "id": "412408c2",
   "metadata": {},
   "source": [
    "## Imports + Transformations"
   ]
  },
  {
   "cell_type": "code",
   "execution_count": null,
   "id": "b0ae9ecd",
   "metadata": {},
   "outputs": [],
   "source": [
    "# Import statements\n",
    "\n",
    "import pandas as pd\n",
    "import numpy as np\n",
    "\n",
    "from sklearn.preprocessing import StandardScaler\n",
    "from sklearn.model_selection import train_test_split, GroupShuffleSplit\n",
    "from sklearn.metrics import accuracy_score\n",
    "\n",
    "from sklearn.tree import DecisionTreeClassifier\n",
    "from sklearn.svm import SVC\n",
    "from sklearn.ensemble import AdaBoostClassifier\n",
    "from sklearn.cluster import KMeans, AgglomerativeClustering, DBSCAN\n",
    "from sklearn.mixture import GaussianMixture"
   ]
  },
  {
   "cell_type": "code",
   "execution_count": null,
   "id": "cd7fe169",
   "metadata": {
    "scrolled": true
   },
   "outputs": [],
   "source": [
    "# Read the data.\n",
    "\n",
    "path = 'all_samples_with_id.csv'\n",
    "data = pd.read_csv(path)\n",
    "\n",
    "data.head()"
   ]
  },
  {
   "cell_type": "code",
   "execution_count": null,
   "id": "7ed18874",
   "metadata": {},
   "outputs": [],
   "source": [
    "data.info()"
   ]
  },
  {
   "cell_type": "code",
   "execution_count": null,
   "id": "533088e2",
   "metadata": {},
   "outputs": [],
   "source": [
    "data.describe()"
   ]
  },
  {
   "cell_type": "code",
   "execution_count": null,
   "id": "898a2a1f",
   "metadata": {},
   "outputs": [],
   "source": [
    "# Transform to a numpy array\n",
    "\n",
    "data = np.asarray(data)\n",
    "data"
   ]
  },
  {
   "cell_type": "code",
   "execution_count": null,
   "id": "a23c0cfe",
   "metadata": {},
   "outputs": [],
   "source": [
    "# Split the data into train and test sets and shuffle it\n",
    "\n",
    "data_train = data[:4952,]\n",
    "data_test = data[4952:,]\n",
    "\n",
    "# Shuffle the data\n",
    "\n",
    "np.random.shuffle(data_train)\n",
    "np.random.shuffle(data_test)"
   ]
  },
  {
   "cell_type": "code",
   "execution_count": null,
   "id": "565bee8c",
   "metadata": {},
   "outputs": [],
   "source": [
    "# Assign the features to the variable X, and the labels to the variable y.\n",
    "\n",
    "X_train = data_train[:, 1:-1]\n",
    "X_test = data_test[:, 1:-1]\n",
    "y_train = data_train[:,-1]\n",
    "y_test = data_test[:,-1]\n",
    "\n",
    "X_train = X_train.astype('int')\n",
    "X_test = X_test.astype('int')\n",
    "y_train = y_train.astype('int')\n",
    "y_test = y_test.astype('int')\n",
    "\n",
    "X_train"
   ]
  },
  {
   "cell_type": "code",
   "execution_count": null,
   "id": "1a48f609",
   "metadata": {
    "scrolled": false
   },
   "outputs": [],
   "source": [
    "# Scale the features to a zero-mean and a standard deviation of 1\n",
    "\n",
    "scaler = StandardScaler()\n",
    "\n",
    "X_train = scaler.fit_transform(X_train)\n",
    "X_test = scaler.fit_transform(X_test)"
   ]
  },
  {
   "cell_type": "code",
   "execution_count": null,
   "id": "a5b3e203",
   "metadata": {},
   "outputs": [],
   "source": [
    "# NOT NEEDED !\n",
    "# Split into train and test data via train_test_split\n",
    "\n",
    "# X_train, X_test, y_train, y_test = train_test_split(X, y, test_size=0.3, random_state=42)"
   ]
  },
  {
   "cell_type": "markdown",
   "id": "e7f727bc",
   "metadata": {},
   "source": [
    "## Supervised Learning – Decision Tree"
   ]
  },
  {
   "cell_type": "code",
   "execution_count": null,
   "id": "524c2dc3",
   "metadata": {},
   "outputs": [],
   "source": [
    "# Create the decision tree model and assign it to the variable model.\n",
    "model = DecisionTreeClassifier()\n",
    "\n",
    "# Fit the model.\n",
    "model.fit(X_train, y_train)\n",
    "\n",
    "# Make predictions. Store them in the variable y_pred.\n",
    "y_pred = model.predict(X_test)\n",
    "\n",
    "# Calculate the accuracy and assign it to the variable acc.\n",
    "acc = accuracy_score(y_test, y_pred)\n",
    "acc"
   ]
  },
  {
   "cell_type": "markdown",
   "id": "e6dd799a",
   "metadata": {},
   "source": [
    "## Supervised Learning – AdaBoost"
   ]
  },
  {
   "cell_type": "code",
   "execution_count": null,
   "id": "0053d350",
   "metadata": {},
   "outputs": [],
   "source": [
    "# Create the model and assign it to the variable model.\n",
    "model = AdaBoostClassifier(base_estimator = DecisionTreeClassifier(max_depth=4), n_estimators = 3)\n",
    "\n",
    "# Fit the model.\n",
    "model.fit(X_train, y_train)\n",
    "\n",
    "# Make predictions. Store them in the variable y_pred.\n",
    "y_pred = model.predict(X_test)\n",
    "\n",
    "# Calculate the accuracy and assign it to the variable acc.\n",
    "acc = accuracy_score(y_test, y_pred)\n",
    "acc"
   ]
  },
  {
   "cell_type": "markdown",
   "id": "a8dc4d58",
   "metadata": {},
   "source": [
    "## Supervised Learning – Support Vector Machines"
   ]
  },
  {
   "cell_type": "code",
   "execution_count": null,
   "id": "69eda011",
   "metadata": {},
   "outputs": [],
   "source": [
    "# Create the model and assign it to the variable model.\n",
    "# kernel{‘linear’, ‘poly’, ‘rbf’, ‘sigmoid’, ‘precomputed’} or callable, default=’rbf’\n",
    "model = SVC(kernel='rbf', gamma='scale', C=0.5)\n",
    "#model = SVC(kernel='poly', gamma='scale', C=0.5)\n",
    "#model = SVC(kernel='sigmoid', gamma='scale', C=1)\n",
    "#model = SVC(kernel='linear', C=1)\n",
    "\n",
    "# Fit the model.\n",
    "model.fit(X_train, y_train)\n",
    "\n",
    "# Make predictions. Store them in the variable y_pred.\n",
    "y_pred = model.predict(X_test)\n",
    "\n",
    "# Calculate the accuracy and assign it to the variable acc.\n",
    "acc = accuracy_score(y_test, y_pred)\n",
    "acc"
   ]
  },
  {
   "cell_type": "markdown",
   "id": "f469d1ab",
   "metadata": {},
   "source": [
    "## Unsupervised Learning – KMeans"
   ]
  },
  {
   "cell_type": "code",
   "execution_count": null,
   "id": "725bf5f3",
   "metadata": {},
   "outputs": [],
   "source": [
    "# Create the model and assign it to the variable model.\n",
    "model = KMeans(12)\n",
    "# model = KMeans(4)\n",
    "\n",
    "# Fit the model.\n",
    "model.fit(X_train)\n",
    "\n",
    "# Make predictions. Store them in the variable y_pred.\n",
    "y_pred = model.predict(X_test)\n",
    "\n",
    "# Calculate the accuracy and assign it to the variable acc.\n",
    "acc = accuracy_score(y_test, y_pred)\n",
    "acc"
   ]
  },
  {
   "cell_type": "markdown",
   "id": "ef046786",
   "metadata": {},
   "source": [
    "## Unsupervised Learning – Hierarchical Clustering: Ward's Method"
   ]
  },
  {
   "cell_type": "code",
   "execution_count": null,
   "id": "4fd56374",
   "metadata": {},
   "outputs": [],
   "source": [
    "# Create the model and assign it to the variable model.\n",
    "model = AgglomerativeClustering(n_clusters=12, linkage='ward')\n",
    "\n",
    "# Make predictions. Store them in the variable y_pred.\n",
    "y_pred = model.fit_predict(X_test)\n",
    "\n",
    "# Calculate the accuracy and assign it to the variable acc.\n",
    "acc = accuracy_score(y_test, y_pred)\n",
    "acc"
   ]
  },
  {
   "cell_type": "markdown",
   "id": "3af8b0f4",
   "metadata": {},
   "source": [
    "## Unsupervised Learning – Hierarchical Clustering: DBSCAN"
   ]
  },
  {
   "cell_type": "code",
   "execution_count": null,
   "id": "8a9ab429",
   "metadata": {},
   "outputs": [],
   "source": [
    "# Create the model and assign it to the variable model.\n",
    "model = DBSCAN(eps=0.5, min_samples=5)\n",
    "\n",
    "# Fit the model.\n",
    "model.fit(X_train)\n",
    "\n",
    "# Make predictions. Store them in the variable y_pred.\n",
    "y_pred = model.fit_predict(X_test)\n",
    "\n",
    "# Calculate the accuracy and assign it to the variable acc.\n",
    "acc = accuracy_score(y_test, y_pred)\n",
    "acc"
   ]
  },
  {
   "cell_type": "markdown",
   "id": "e3d4c030",
   "metadata": {},
   "source": [
    "## Unsupervised Learning – Gaussian Mixture Model"
   ]
  },
  {
   "cell_type": "code",
   "execution_count": null,
   "id": "d730d54e",
   "metadata": {},
   "outputs": [],
   "source": [
    "# Create the model and assign it to the variable model.\n",
    "model = GaussianMixture(n_components=12)\n",
    "\n",
    "# Fit the model.\n",
    "model.fit(X_train)\n",
    "\n",
    "# Make predictions. Store them in the variable y_pred.\n",
    "y_pred = model.fit_predict(X_test)\n",
    "\n",
    "# Calculate the accuracy and assign it to the variable acc.\n",
    "acc = accuracy_score(y_test, y_pred)\n",
    "acc"
   ]
  }
 ],
 "metadata": {
  "kernelspec": {
   "display_name": "Python 3 (ipykernel)",
   "language": "python",
   "name": "python3"
  },
  "language_info": {
   "codemirror_mode": {
    "name": "ipython",
    "version": 3
   },
   "file_extension": ".py",
   "mimetype": "text/x-python",
   "name": "python",
   "nbconvert_exporter": "python",
   "pygments_lexer": "ipython3",
   "version": "3.10.4"
  }
 },
 "nbformat": 4,
 "nbformat_minor": 5
}
