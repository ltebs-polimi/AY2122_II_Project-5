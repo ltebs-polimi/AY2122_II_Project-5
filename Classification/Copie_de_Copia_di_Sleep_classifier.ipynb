{
 "cells": [
  {
   "cell_type": "code",
   "execution_count": null,
   "metadata": {
    "id": "gFkS5ya-zM0m"
   },
   "outputs": [],
   "source": [
    "# Data processing\n",
    "\n",
    "import pandas as pd\n",
    "import numpy as np\n",
    "import seaborn as sns\n",
    "import matplotlib.pyplot as plt\n",
    "import math\n",
    "from sklearn.model_selection import train_test_split\n",
    "from sklearn.preprocessing import StandardScaler\n",
    "from sklearn.model_selection import GroupShuffleSplit\n",
    "\n",
    "# Models\n",
    "\n",
    "from sklearn.model_selection import GridSearchCV\n",
    "from sklearn.metrics import confusion_matrix, plot_confusion_matrix, classification_report\n",
    "from sklearn.metrics import f1_score, precision_score, recall_score, accuracy_score, precision_recall_curve, roc_curve, roc_auc_score\n",
    "from sklearn.neighbors import KNeighborsClassifier\n",
    "from sklearn.tree import DecisionTreeClassifier\n",
    "from sklearn import tree\n",
    "from sklearn.svm import SVC\n",
    "from sklearn.ensemble import AdaBoostClassifier\n",
    "from sklearn.ensemble import RandomForestClassifier\n",
    "from sklearn.linear_model import LogisticRegression\n",
    "from sklearn.neural_network import MLPClassifier\n",
    "from sklearn.naive_bayes import GaussianNB\n",
    "import xgboost as xgb"
   ]
  },
  {
   "cell_type": "code",
   "execution_count": null,
   "metadata": {
    "colab": {
     "base_uri": "https://localhost:8080/"
    },
    "id": "GrrdzF2-zSx9",
    "outputId": "8da9d8a9-c30b-426a-c075-6abcab17f502"
   },
   "outputs": [
    {
     "name": "stdout",
     "output_type": "stream",
     "text": [
      "Mounted at /content/drive/\n"
     ]
    }
   ],
   "source": [
    "# Connection to google drive\n",
    "\n",
    "from google.colab import drive\n",
    "drive.mount('/content/drive/')"
   ]
  },
  {
   "cell_type": "code",
   "execution_count": null,
   "metadata": {
    "id": "x3FXmBv4zcdF"
   },
   "outputs": [],
   "source": [
    "from os import path\n",
    "path_folder = '/content/drive/MyDrive/Sleep_classifier/'"
   ]
  },
  {
   "cell_type": "code",
   "execution_count": null,
   "metadata": {
    "id": "JWSfxq6Czknn"
   },
   "outputs": [],
   "source": [
    "# Paths to subjects data\n",
    "# Female\n",
    "path_subject_f01 = path.join(path_folder, 'alessandra_20220601_182359.csv')\n",
    "path_subject_f02 = path.join(path_folder, 'aurora_20220601_180419.csv')\n",
    "path_subject_f03 = path.join(path_folder, 'benedetta_20220601_184141.csv')\n",
    "path_subject_f04 = path.join(path_folder, 'chloe_20220601_165046.csv')\n",
    "path_subject_f05 = path.join(path_folder, 'giulia_20220601_171812.csv')\n",
    "path_subject_f06 = path.join(path_folder, 'laura_20220601_174539.csv')\n",
    "path_subject_f07 = path.join(path_folder, 'melissa_20220601_190124.csv')\n",
    "\n",
    "# Male\n",
    "path_subject_m01 = path.join(path_folder, 'axel_20220610_193124.csv')\n",
    "path_subject_m02 = path.join(path_folder, 'fabio_20220601_193018.csv')\n",
    "path_subject_m03 = path.join(path_folder, 'lilian_20220610_214447.csv')\n",
    "path_subject_m04 = path.join(path_folder, 'massimo_20220601_194803.csv')"
   ]
  },
  {
   "cell_type": "code",
   "execution_count": null,
   "metadata": {
    "id": "3tyEsY5T0oGa"
   },
   "outputs": [],
   "source": [
    "# Data reading\n",
    "# Female\n",
    "data_subject_f01 = pd.read_csv(path_subject_f01)\n",
    "data_subject_f02 = pd.read_csv(path_subject_f02)\n",
    "data_subject_f03 = pd.read_csv(path_subject_f03)\n",
    "data_subject_f04 = pd.read_csv(path_subject_f04)\n",
    "data_subject_f05 = pd.read_csv(path_subject_f05)\n",
    "data_subject_f06 = pd.read_csv(path_subject_f06)\n",
    "# data_subject_f07 = pd.read_csv(path_subject_f07) --> Melissa's file is corrupted, missing positions from 2 to 4\n",
    "\n",
    "# Male\n",
    "data_subject_m01 = pd.read_csv(path_subject_m01, sep=';')\n",
    "data_subject_m02 = pd.read_csv(path_subject_m02)\n",
    "data_subject_m03 = pd.read_csv(path_subject_m03)\n",
    "data_subject_m04 = pd.read_csv(path_subject_m04)"
   ]
  },
  {
   "cell_type": "markdown",
   "metadata": {
    "id": "cQ0U1JLe66OP"
   },
   "source": [
    "# Nuova sezione"
   ]
  },
  {
   "cell_type": "code",
   "execution_count": null,
   "metadata": {
    "colab": {
     "base_uri": "https://localhost:8080/",
     "height": 206
    },
    "id": "1lUTosKb04HY",
    "outputId": "bae258ea-d8cc-47ca-8322-ae6a41b3cbba"
   },
   "outputs": [
    {
     "data": {
      "text/html": [
       "\n",
       "  <div id=\"df-979f5c25-0421-40fa-98f6-e04169670088\">\n",
       "    <div class=\"colab-df-container\">\n",
       "      <div>\n",
       "<style scoped>\n",
       "    .dataframe tbody tr th:only-of-type {\n",
       "        vertical-align: middle;\n",
       "    }\n",
       "\n",
       "    .dataframe tbody tr th {\n",
       "        vertical-align: top;\n",
       "    }\n",
       "\n",
       "    .dataframe thead th {\n",
       "        text-align: right;\n",
       "    }\n",
       "</style>\n",
       "<table border=\"1\" class=\"dataframe\">\n",
       "  <thead>\n",
       "    <tr style=\"text-align: right;\">\n",
       "      <th></th>\n",
       "      <th>x_chest</th>\n",
       "      <th>y_chest</th>\n",
       "      <th>z_chest</th>\n",
       "      <th>x_ankle</th>\n",
       "      <th>y_ankle</th>\n",
       "      <th>z_ankle</th>\n",
       "      <th>position</th>\n",
       "    </tr>\n",
       "  </thead>\n",
       "  <tbody>\n",
       "    <tr>\n",
       "      <th>0</th>\n",
       "      <td>-4</td>\n",
       "      <td>80</td>\n",
       "      <td>-243</td>\n",
       "      <td>-246</td>\n",
       "      <td>37</td>\n",
       "      <td>21</td>\n",
       "      <td>1</td>\n",
       "    </tr>\n",
       "    <tr>\n",
       "      <th>1</th>\n",
       "      <td>-4</td>\n",
       "      <td>82</td>\n",
       "      <td>-242</td>\n",
       "      <td>-247</td>\n",
       "      <td>37</td>\n",
       "      <td>22</td>\n",
       "      <td>1</td>\n",
       "    </tr>\n",
       "    <tr>\n",
       "      <th>2</th>\n",
       "      <td>-4</td>\n",
       "      <td>83</td>\n",
       "      <td>-242</td>\n",
       "      <td>-247</td>\n",
       "      <td>37</td>\n",
       "      <td>23</td>\n",
       "      <td>1</td>\n",
       "    </tr>\n",
       "    <tr>\n",
       "      <th>3</th>\n",
       "      <td>-4</td>\n",
       "      <td>85</td>\n",
       "      <td>-241</td>\n",
       "      <td>-246</td>\n",
       "      <td>38</td>\n",
       "      <td>23</td>\n",
       "      <td>1</td>\n",
       "    </tr>\n",
       "    <tr>\n",
       "      <th>4</th>\n",
       "      <td>-4</td>\n",
       "      <td>85</td>\n",
       "      <td>-242</td>\n",
       "      <td>-247</td>\n",
       "      <td>37</td>\n",
       "      <td>23</td>\n",
       "      <td>1</td>\n",
       "    </tr>\n",
       "  </tbody>\n",
       "</table>\n",
       "</div>\n",
       "      <button class=\"colab-df-convert\" onclick=\"convertToInteractive('df-979f5c25-0421-40fa-98f6-e04169670088')\"\n",
       "              title=\"Convert this dataframe to an interactive table.\"\n",
       "              style=\"display:none;\">\n",
       "        \n",
       "  <svg xmlns=\"http://www.w3.org/2000/svg\" height=\"24px\"viewBox=\"0 0 24 24\"\n",
       "       width=\"24px\">\n",
       "    <path d=\"M0 0h24v24H0V0z\" fill=\"none\"/>\n",
       "    <path d=\"M18.56 5.44l.94 2.06.94-2.06 2.06-.94-2.06-.94-.94-2.06-.94 2.06-2.06.94zm-11 1L8.5 8.5l.94-2.06 2.06-.94-2.06-.94L8.5 2.5l-.94 2.06-2.06.94zm10 10l.94 2.06.94-2.06 2.06-.94-2.06-.94-.94-2.06-.94 2.06-2.06.94z\"/><path d=\"M17.41 7.96l-1.37-1.37c-.4-.4-.92-.59-1.43-.59-.52 0-1.04.2-1.43.59L10.3 9.45l-7.72 7.72c-.78.78-.78 2.05 0 2.83L4 21.41c.39.39.9.59 1.41.59.51 0 1.02-.2 1.41-.59l7.78-7.78 2.81-2.81c.8-.78.8-2.07 0-2.86zM5.41 20L4 18.59l7.72-7.72 1.47 1.35L5.41 20z\"/>\n",
       "  </svg>\n",
       "      </button>\n",
       "      \n",
       "  <style>\n",
       "    .colab-df-container {\n",
       "      display:flex;\n",
       "      flex-wrap:wrap;\n",
       "      gap: 12px;\n",
       "    }\n",
       "\n",
       "    .colab-df-convert {\n",
       "      background-color: #E8F0FE;\n",
       "      border: none;\n",
       "      border-radius: 50%;\n",
       "      cursor: pointer;\n",
       "      display: none;\n",
       "      fill: #1967D2;\n",
       "      height: 32px;\n",
       "      padding: 0 0 0 0;\n",
       "      width: 32px;\n",
       "    }\n",
       "\n",
       "    .colab-df-convert:hover {\n",
       "      background-color: #E2EBFA;\n",
       "      box-shadow: 0px 1px 2px rgba(60, 64, 67, 0.3), 0px 1px 3px 1px rgba(60, 64, 67, 0.15);\n",
       "      fill: #174EA6;\n",
       "    }\n",
       "\n",
       "    [theme=dark] .colab-df-convert {\n",
       "      background-color: #3B4455;\n",
       "      fill: #D2E3FC;\n",
       "    }\n",
       "\n",
       "    [theme=dark] .colab-df-convert:hover {\n",
       "      background-color: #434B5C;\n",
       "      box-shadow: 0px 1px 3px 1px rgba(0, 0, 0, 0.15);\n",
       "      filter: drop-shadow(0px 1px 2px rgba(0, 0, 0, 0.3));\n",
       "      fill: #FFFFFF;\n",
       "    }\n",
       "  </style>\n",
       "\n",
       "      <script>\n",
       "        const buttonEl =\n",
       "          document.querySelector('#df-979f5c25-0421-40fa-98f6-e04169670088 button.colab-df-convert');\n",
       "        buttonEl.style.display =\n",
       "          google.colab.kernel.accessAllowed ? 'block' : 'none';\n",
       "\n",
       "        async function convertToInteractive(key) {\n",
       "          const element = document.querySelector('#df-979f5c25-0421-40fa-98f6-e04169670088');\n",
       "          const dataTable =\n",
       "            await google.colab.kernel.invokeFunction('convertToInteractive',\n",
       "                                                     [key], {});\n",
       "          if (!dataTable) return;\n",
       "\n",
       "          const docLinkHtml = 'Like what you see? Visit the ' +\n",
       "            '<a target=\"_blank\" href=https://colab.research.google.com/notebooks/data_table.ipynb>data table notebook</a>'\n",
       "            + ' to learn more about interactive tables.';\n",
       "          element.innerHTML = '';\n",
       "          dataTable['output_type'] = 'display_data';\n",
       "          await google.colab.output.renderOutput(dataTable, element);\n",
       "          const docLink = document.createElement('div');\n",
       "          docLink.innerHTML = docLinkHtml;\n",
       "          element.appendChild(docLink);\n",
       "        }\n",
       "      </script>\n",
       "    </div>\n",
       "  </div>\n",
       "  "
      ],
      "text/plain": [
       "   x_chest  y_chest  z_chest  x_ankle  y_ankle  z_ankle  position\n",
       "0       -4       80     -243     -246       37       21         1\n",
       "1       -4       82     -242     -247       37       22         1\n",
       "2       -4       83     -242     -247       37       23         1\n",
       "3       -4       85     -241     -246       38       23         1\n",
       "4       -4       85     -242     -247       37       23         1"
      ]
     },
     "execution_count": 7,
     "metadata": {},
     "output_type": "execute_result"
    }
   ],
   "source": [
    "# Visualize a file\n",
    "data_subject_f01.head()"
   ]
  },
  {
   "cell_type": "code",
   "execution_count": null,
   "metadata": {
    "id": "IwZokAxG1s6x"
   },
   "outputs": [],
   "source": [
    "# Remove the transient samplings between 2 positions for each subject, take the averages and concatenate data into a single dataset\n",
    "subject_list = ['f01', 'f02', 'f03', 'f04', 'f05', 'f06', 'f07', 'm01', 'm02', 'm03', 'm04']\n",
    "subject_id = []\n",
    "subject_sex = []\n",
    "id = 0\n",
    "acceleration_avgs = []\n",
    "position_indexes = [1, 2, 3, 4, 5, 6, 7, 8, 9, 10, 11, 12]\n",
    "\n",
    "for subject in subject_list:\n",
    "  # Get identifier and sex of the subject\n",
    "  sex = subject[0].upper()\n",
    "  subject_id.append(id)\n",
    "  subject_sex.append(sex)\n",
    "  id += 1\n",
    "\n",
    "  # Clean the subject's data by removing the transient portions\n",
    "  subject_data = data_subject_m01\n",
    "  for pos_idx in position_indexes:\n",
    "    position_data = subject_data.loc[subject_data['position']==pos_idx]\n",
    "\n",
    "    # Remove the 15 first rows for each position\n",
    "    position_data_cleaned = position_data.iloc[15:,:]\n",
    "\n",
    "    # Compute and store the averages\n",
    "    avg = []\n",
    "    avg.append(id)\n",
    "    avg.append(sex)\n",
    "    for column in position_data_cleaned.columns.drop('position'):\n",
    "      acc_values = position_data_cleaned[column]\n",
    "      avg.append(acc_values.mean())\n",
    "    avg.append(pos_idx)\n",
    "\n",
    "    acceleration_avgs.append(avg)\n",
    "\n",
    "dataset = pd.DataFrame(acceleration_avgs, columns = ['subject_id', 'sex', 'x_chest_avg', 'y_chest_avg', 'z_chest_avg', 'x_ankle_avg', 'y_ankle_avg', 'z_ankle_avg', 'position'])"
   ]
  },
  {
   "cell_type": "code",
   "execution_count": null,
   "metadata": {
    "colab": {
     "base_uri": "https://localhost:8080/",
     "height": 206
    },
    "id": "zSJxlQ332xU1",
    "outputId": "734412f6-66a2-4f1a-c780-c6b21d3f2563"
   },
   "outputs": [
    {
     "data": {
      "text/html": [
       "\n",
       "  <div id=\"df-cc4ffb00-6f85-439b-9d96-b239cfb098d9\">\n",
       "    <div class=\"colab-df-container\">\n",
       "      <div>\n",
       "<style scoped>\n",
       "    .dataframe tbody tr th:only-of-type {\n",
       "        vertical-align: middle;\n",
       "    }\n",
       "\n",
       "    .dataframe tbody tr th {\n",
       "        vertical-align: top;\n",
       "    }\n",
       "\n",
       "    .dataframe thead th {\n",
       "        text-align: right;\n",
       "    }\n",
       "</style>\n",
       "<table border=\"1\" class=\"dataframe\">\n",
       "  <thead>\n",
       "    <tr style=\"text-align: right;\">\n",
       "      <th></th>\n",
       "      <th>subject_id</th>\n",
       "      <th>sex</th>\n",
       "      <th>x_chest_avg</th>\n",
       "      <th>y_chest_avg</th>\n",
       "      <th>z_chest_avg</th>\n",
       "      <th>x_ankle_avg</th>\n",
       "      <th>y_ankle_avg</th>\n",
       "      <th>z_ankle_avg</th>\n",
       "      <th>position</th>\n",
       "    </tr>\n",
       "  </thead>\n",
       "  <tbody>\n",
       "    <tr>\n",
       "      <th>0</th>\n",
       "      <td>1</td>\n",
       "      <td>F</td>\n",
       "      <td>8.175000</td>\n",
       "      <td>79.175000</td>\n",
       "      <td>-243.500000</td>\n",
       "      <td>-216.750000</td>\n",
       "      <td>7.100000</td>\n",
       "      <td>129.950000</td>\n",
       "      <td>1</td>\n",
       "    </tr>\n",
       "    <tr>\n",
       "      <th>1</th>\n",
       "      <td>1</td>\n",
       "      <td>F</td>\n",
       "      <td>21.363636</td>\n",
       "      <td>61.886364</td>\n",
       "      <td>-248.113636</td>\n",
       "      <td>-215.931818</td>\n",
       "      <td>-0.022727</td>\n",
       "      <td>133.909091</td>\n",
       "      <td>2</td>\n",
       "    </tr>\n",
       "    <tr>\n",
       "      <th>2</th>\n",
       "      <td>1</td>\n",
       "      <td>F</td>\n",
       "      <td>12.500000</td>\n",
       "      <td>82.954545</td>\n",
       "      <td>-241.977273</td>\n",
       "      <td>-236.000000</td>\n",
       "      <td>9.181818</td>\n",
       "      <td>85.022727</td>\n",
       "      <td>3</td>\n",
       "    </tr>\n",
       "    <tr>\n",
       "      <th>3</th>\n",
       "      <td>1</td>\n",
       "      <td>F</td>\n",
       "      <td>19.727273</td>\n",
       "      <td>-121.704545</td>\n",
       "      <td>228.840909</td>\n",
       "      <td>215.045455</td>\n",
       "      <td>-6.409091</td>\n",
       "      <td>-124.227273</td>\n",
       "      <td>4</td>\n",
       "    </tr>\n",
       "    <tr>\n",
       "      <th>4</th>\n",
       "      <td>1</td>\n",
       "      <td>F</td>\n",
       "      <td>25.590909</td>\n",
       "      <td>-99.136364</td>\n",
       "      <td>239.795455</td>\n",
       "      <td>208.681818</td>\n",
       "      <td>-8.272727</td>\n",
       "      <td>-132.454545</td>\n",
       "      <td>5</td>\n",
       "    </tr>\n",
       "  </tbody>\n",
       "</table>\n",
       "</div>\n",
       "      <button class=\"colab-df-convert\" onclick=\"convertToInteractive('df-cc4ffb00-6f85-439b-9d96-b239cfb098d9')\"\n",
       "              title=\"Convert this dataframe to an interactive table.\"\n",
       "              style=\"display:none;\">\n",
       "        \n",
       "  <svg xmlns=\"http://www.w3.org/2000/svg\" height=\"24px\"viewBox=\"0 0 24 24\"\n",
       "       width=\"24px\">\n",
       "    <path d=\"M0 0h24v24H0V0z\" fill=\"none\"/>\n",
       "    <path d=\"M18.56 5.44l.94 2.06.94-2.06 2.06-.94-2.06-.94-.94-2.06-.94 2.06-2.06.94zm-11 1L8.5 8.5l.94-2.06 2.06-.94-2.06-.94L8.5 2.5l-.94 2.06-2.06.94zm10 10l.94 2.06.94-2.06 2.06-.94-2.06-.94-.94-2.06-.94 2.06-2.06.94z\"/><path d=\"M17.41 7.96l-1.37-1.37c-.4-.4-.92-.59-1.43-.59-.52 0-1.04.2-1.43.59L10.3 9.45l-7.72 7.72c-.78.78-.78 2.05 0 2.83L4 21.41c.39.39.9.59 1.41.59.51 0 1.02-.2 1.41-.59l7.78-7.78 2.81-2.81c.8-.78.8-2.07 0-2.86zM5.41 20L4 18.59l7.72-7.72 1.47 1.35L5.41 20z\"/>\n",
       "  </svg>\n",
       "      </button>\n",
       "      \n",
       "  <style>\n",
       "    .colab-df-container {\n",
       "      display:flex;\n",
       "      flex-wrap:wrap;\n",
       "      gap: 12px;\n",
       "    }\n",
       "\n",
       "    .colab-df-convert {\n",
       "      background-color: #E8F0FE;\n",
       "      border: none;\n",
       "      border-radius: 50%;\n",
       "      cursor: pointer;\n",
       "      display: none;\n",
       "      fill: #1967D2;\n",
       "      height: 32px;\n",
       "      padding: 0 0 0 0;\n",
       "      width: 32px;\n",
       "    }\n",
       "\n",
       "    .colab-df-convert:hover {\n",
       "      background-color: #E2EBFA;\n",
       "      box-shadow: 0px 1px 2px rgba(60, 64, 67, 0.3), 0px 1px 3px 1px rgba(60, 64, 67, 0.15);\n",
       "      fill: #174EA6;\n",
       "    }\n",
       "\n",
       "    [theme=dark] .colab-df-convert {\n",
       "      background-color: #3B4455;\n",
       "      fill: #D2E3FC;\n",
       "    }\n",
       "\n",
       "    [theme=dark] .colab-df-convert:hover {\n",
       "      background-color: #434B5C;\n",
       "      box-shadow: 0px 1px 3px 1px rgba(0, 0, 0, 0.15);\n",
       "      filter: drop-shadow(0px 1px 2px rgba(0, 0, 0, 0.3));\n",
       "      fill: #FFFFFF;\n",
       "    }\n",
       "  </style>\n",
       "\n",
       "      <script>\n",
       "        const buttonEl =\n",
       "          document.querySelector('#df-cc4ffb00-6f85-439b-9d96-b239cfb098d9 button.colab-df-convert');\n",
       "        buttonEl.style.display =\n",
       "          google.colab.kernel.accessAllowed ? 'block' : 'none';\n",
       "\n",
       "        async function convertToInteractive(key) {\n",
       "          const element = document.querySelector('#df-cc4ffb00-6f85-439b-9d96-b239cfb098d9');\n",
       "          const dataTable =\n",
       "            await google.colab.kernel.invokeFunction('convertToInteractive',\n",
       "                                                     [key], {});\n",
       "          if (!dataTable) return;\n",
       "\n",
       "          const docLinkHtml = 'Like what you see? Visit the ' +\n",
       "            '<a target=\"_blank\" href=https://colab.research.google.com/notebooks/data_table.ipynb>data table notebook</a>'\n",
       "            + ' to learn more about interactive tables.';\n",
       "          element.innerHTML = '';\n",
       "          dataTable['output_type'] = 'display_data';\n",
       "          await google.colab.output.renderOutput(dataTable, element);\n",
       "          const docLink = document.createElement('div');\n",
       "          docLink.innerHTML = docLinkHtml;\n",
       "          element.appendChild(docLink);\n",
       "        }\n",
       "      </script>\n",
       "    </div>\n",
       "  </div>\n",
       "  "
      ],
      "text/plain": [
       "   subject_id sex  x_chest_avg  y_chest_avg  z_chest_avg  x_ankle_avg  \\\n",
       "0           1   F     8.175000    79.175000  -243.500000  -216.750000   \n",
       "1           1   F    21.363636    61.886364  -248.113636  -215.931818   \n",
       "2           1   F    12.500000    82.954545  -241.977273  -236.000000   \n",
       "3           1   F    19.727273  -121.704545   228.840909   215.045455   \n",
       "4           1   F    25.590909   -99.136364   239.795455   208.681818   \n",
       "\n",
       "   y_ankle_avg  z_ankle_avg  position  \n",
       "0     7.100000   129.950000         1  \n",
       "1    -0.022727   133.909091         2  \n",
       "2     9.181818    85.022727         3  \n",
       "3    -6.409091  -124.227273         4  \n",
       "4    -8.272727  -132.454545         5  "
      ]
     },
     "execution_count": 9,
     "metadata": {},
     "output_type": "execute_result"
    }
   ],
   "source": [
    "dataset.head()"
   ]
  },
  {
   "cell_type": "code",
   "execution_count": null,
   "metadata": {
    "colab": {
     "base_uri": "https://localhost:8080/"
    },
    "id": "d8_IQvBM4guC",
    "outputId": "cc9092f8-9a0e-450c-d57f-6890311e793c"
   },
   "outputs": [
    {
     "data": {
      "text/plain": [
       "(132, 9)"
      ]
     },
     "execution_count": 10,
     "metadata": {},
     "output_type": "execute_result"
    }
   ],
   "source": [
    "dataset.shape"
   ]
  },
  {
   "cell_type": "markdown",
   "metadata": {
    "id": "lChKKSyX5XZw"
   },
   "source": [
    "# **Randomizer the cool way**\n"
   ]
  },
  {
   "cell_type": "code",
   "execution_count": null,
   "metadata": {
    "id": "7v8LAeDQkSeo"
   },
   "outputs": [],
   "source": [
    "df= dataset.copy() #don't know if it was necessary to copy, did it just in case I messed up something\n",
    "\n",
    "whole_dataset_list =df.to_numpy().tolist() #transform dataset into a list (technically a list of lists) in order to sort it by patient id\n",
    "patientid_list =df['subject_id'].to_numpy().tolist()\n",
    "patientid_set =list(set(patientid_list))\n",
    "\n",
    "#randomly shuffle the set of patients IDs\n",
    "import random as rand\n",
    "rand.shuffle(patientid_set)\n",
    "\n",
    "#print(whole_dataset_list)"
   ]
  },
  {
   "cell_type": "code",
   "execution_count": null,
   "metadata": {
    "id": "d92yaTI5l2AZ"
   },
   "outputs": [],
   "source": [
    "#print(patientid_list)"
   ]
  },
  {
   "cell_type": "code",
   "execution_count": null,
   "metadata": {
    "colab": {
     "base_uri": "https://localhost:8080/"
    },
    "id": "2FXs2I4Fl6LI",
    "outputId": "e2ad7574-26ff-40ca-ec57-a237cd66d033"
   },
   "outputs": [
    {
     "name": "stdout",
     "output_type": "stream",
     "text": [
      "[1, 5, 2, 3, 10, 8, 11, 4, 9, 7, 6]\n"
     ]
    }
   ],
   "source": [
    "print(patientid_set)"
   ]
  },
  {
   "cell_type": "code",
   "execution_count": null,
   "metadata": {
    "id": "E5KDHmc8Af4p"
   },
   "outputs": [],
   "source": [
    "#The separation between a training set and a test set was\n",
    "#obtained using a 70%-30% random split.\n",
    "\n",
    "train_set_by_patientID = patientid_set[0:8] #the first 8 randomly chosen patient will inform the train set\n",
    "test_set_by_patientID = patientid_set[8:]   #the remaining 3 patient will inform the test set\n"
   ]
  },
  {
   "cell_type": "code",
   "execution_count": null,
   "metadata": {
    "id": "DHBIOWONkR7S"
   },
   "outputs": [],
   "source": [
    "#print(\"train\",train_set_by_patientID)\n",
    "#print(\"test\",test_set_by_patientID)\n",
    "#print (len(whole_dataset_list))\n",
    "#print(range(len(whole_dataset_list)))"
   ]
  },
  {
   "cell_type": "code",
   "execution_count": null,
   "metadata": {
    "colab": {
     "base_uri": "https://localhost:8080/"
    },
    "id": "EwjclhG0A3Ag",
    "outputId": "9301cfc5-9836-4fc2-8456-4638f239b88e"
   },
   "outputs": [
    {
     "name": "stdout",
     "output_type": "stream",
     "text": [
      "[[1, 'F', 8.175, 79.175, -243.5, -216.75, 7.1, 129.95, 1], [1, 'F', 21.363636363636363, 61.88636363636363, -248.11363636363637, -215.9318181818182, -0.022727272727272728, 133.9090909090909, 2], [1, 'F', 12.5, 82.95454545454545, -241.97727272727272, -236.0, 9.181818181818182, 85.02272727272727, 3], [1, 'F', 19.727272727272727, -121.70454545454545, 228.8409090909091, 215.04545454545453, -6.409090909090909, -124.22727272727273, 4], [1, 'F', 25.59090909090909, -99.13636363636364, 239.79545454545453, 208.6818181818182, -8.272727272727273, -132.45454545454547, 5], [1, 'F', -14.439024390243903, -115.65853658536585, 231.82926829268294, 246.90243902439025, 20.878048780487806, 16.24390243902439, 6], [1, 'F', -225.45454545454547, -107.11363636363636, 7.5, 99.72727272727273, 0.0, 245.36363636363637, 7], [1, 'F', -210.1818181818182, -132.0681818181818, 7.295454545454546, 90.02272727272727, -27.613636363636363, 248.9090909090909, 8], [1, 'F', -228.22727272727272, -83.5, -55.56818181818182, 77.6590909090909, -30.772727272727273, 252.4090909090909, 9], [1, 'F', 255.22727272727272, -40.38636363636363, 1.7727272727272727, -34.93181818181818, -2.4545454545454546, -251.02272727272728, 10], [1, 'F', 255.0, -41.09090909090909, 11.068181818181818, -37.25, -0.022727272727272728, -251.29545454545453, 11], [1, 'F', 254.6590909090909, -39.04545454545455, -25.295454545454547, 4.75, -0.022727272727272728, -254.11363636363637, 12], [2, 'F', 8.175, 79.175, -243.5, -216.75, 7.1, 129.95, 1], [2, 'F', 21.363636363636363, 61.88636363636363, -248.11363636363637, -215.9318181818182, -0.022727272727272728, 133.9090909090909, 2], [2, 'F', 12.5, 82.95454545454545, -241.97727272727272, -236.0, 9.181818181818182, 85.02272727272727, 3], [2, 'F', 19.727272727272727, -121.70454545454545, 228.8409090909091, 215.04545454545453, -6.409090909090909, -124.22727272727273, 4], [2, 'F', 25.59090909090909, -99.13636363636364, 239.79545454545453, 208.6818181818182, -8.272727272727273, -132.45454545454547, 5], [2, 'F', -14.439024390243903, -115.65853658536585, 231.82926829268294, 246.90243902439025, 20.878048780487806, 16.24390243902439, 6], [2, 'F', -225.45454545454547, -107.11363636363636, 7.5, 99.72727272727273, 0.0, 245.36363636363637, 7], [2, 'F', -210.1818181818182, -132.0681818181818, 7.295454545454546, 90.02272727272727, -27.613636363636363, 248.9090909090909, 8], [2, 'F', -228.22727272727272, -83.5, -55.56818181818182, 77.6590909090909, -30.772727272727273, 252.4090909090909, 9], [2, 'F', 255.22727272727272, -40.38636363636363, 1.7727272727272727, -34.93181818181818, -2.4545454545454546, -251.02272727272728, 10], [2, 'F', 255.0, -41.09090909090909, 11.068181818181818, -37.25, -0.022727272727272728, -251.29545454545453, 11], [2, 'F', 254.6590909090909, -39.04545454545455, -25.295454545454547, 4.75, -0.022727272727272728, -254.11363636363637, 12], [3, 'F', 8.175, 79.175, -243.5, -216.75, 7.1, 129.95, 1], [3, 'F', 21.363636363636363, 61.88636363636363, -248.11363636363637, -215.9318181818182, -0.022727272727272728, 133.9090909090909, 2], [3, 'F', 12.5, 82.95454545454545, -241.97727272727272, -236.0, 9.181818181818182, 85.02272727272727, 3], [3, 'F', 19.727272727272727, -121.70454545454545, 228.8409090909091, 215.04545454545453, -6.409090909090909, -124.22727272727273, 4], [3, 'F', 25.59090909090909, -99.13636363636364, 239.79545454545453, 208.6818181818182, -8.272727272727273, -132.45454545454547, 5], [3, 'F', -14.439024390243903, -115.65853658536585, 231.82926829268294, 246.90243902439025, 20.878048780487806, 16.24390243902439, 6], [3, 'F', -225.45454545454547, -107.11363636363636, 7.5, 99.72727272727273, 0.0, 245.36363636363637, 7], [3, 'F', -210.1818181818182, -132.0681818181818, 7.295454545454546, 90.02272727272727, -27.613636363636363, 248.9090909090909, 8], [3, 'F', -228.22727272727272, -83.5, -55.56818181818182, 77.6590909090909, -30.772727272727273, 252.4090909090909, 9], [3, 'F', 255.22727272727272, -40.38636363636363, 1.7727272727272727, -34.93181818181818, -2.4545454545454546, -251.02272727272728, 10], [3, 'F', 255.0, -41.09090909090909, 11.068181818181818, -37.25, -0.022727272727272728, -251.29545454545453, 11], [3, 'F', 254.6590909090909, -39.04545454545455, -25.295454545454547, 4.75, -0.022727272727272728, -254.11363636363637, 12], [4, 'F', 8.175, 79.175, -243.5, -216.75, 7.1, 129.95, 1], [4, 'F', 21.363636363636363, 61.88636363636363, -248.11363636363637, -215.9318181818182, -0.022727272727272728, 133.9090909090909, 2], [4, 'F', 12.5, 82.95454545454545, -241.97727272727272, -236.0, 9.181818181818182, 85.02272727272727, 3], [4, 'F', 19.727272727272727, -121.70454545454545, 228.8409090909091, 215.04545454545453, -6.409090909090909, -124.22727272727273, 4], [4, 'F', 25.59090909090909, -99.13636363636364, 239.79545454545453, 208.6818181818182, -8.272727272727273, -132.45454545454547, 5], [4, 'F', -14.439024390243903, -115.65853658536585, 231.82926829268294, 246.90243902439025, 20.878048780487806, 16.24390243902439, 6], [4, 'F', -225.45454545454547, -107.11363636363636, 7.5, 99.72727272727273, 0.0, 245.36363636363637, 7], [4, 'F', -210.1818181818182, -132.0681818181818, 7.295454545454546, 90.02272727272727, -27.613636363636363, 248.9090909090909, 8], [4, 'F', -228.22727272727272, -83.5, -55.56818181818182, 77.6590909090909, -30.772727272727273, 252.4090909090909, 9], [4, 'F', 255.22727272727272, -40.38636363636363, 1.7727272727272727, -34.93181818181818, -2.4545454545454546, -251.02272727272728, 10], [4, 'F', 255.0, -41.09090909090909, 11.068181818181818, -37.25, -0.022727272727272728, -251.29545454545453, 11], [4, 'F', 254.6590909090909, -39.04545454545455, -25.295454545454547, 4.75, -0.022727272727272728, -254.11363636363637, 12], [5, 'F', 8.175, 79.175, -243.5, -216.75, 7.1, 129.95, 1], [5, 'F', 21.363636363636363, 61.88636363636363, -248.11363636363637, -215.9318181818182, -0.022727272727272728, 133.9090909090909, 2], [5, 'F', 12.5, 82.95454545454545, -241.97727272727272, -236.0, 9.181818181818182, 85.02272727272727, 3], [5, 'F', 19.727272727272727, -121.70454545454545, 228.8409090909091, 215.04545454545453, -6.409090909090909, -124.22727272727273, 4], [5, 'F', 25.59090909090909, -99.13636363636364, 239.79545454545453, 208.6818181818182, -8.272727272727273, -132.45454545454547, 5], [5, 'F', -14.439024390243903, -115.65853658536585, 231.82926829268294, 246.90243902439025, 20.878048780487806, 16.24390243902439, 6], [5, 'F', -225.45454545454547, -107.11363636363636, 7.5, 99.72727272727273, 0.0, 245.36363636363637, 7], [5, 'F', -210.1818181818182, -132.0681818181818, 7.295454545454546, 90.02272727272727, -27.613636363636363, 248.9090909090909, 8], [5, 'F', -228.22727272727272, -83.5, -55.56818181818182, 77.6590909090909, -30.772727272727273, 252.4090909090909, 9], [5, 'F', 255.22727272727272, -40.38636363636363, 1.7727272727272727, -34.93181818181818, -2.4545454545454546, -251.02272727272728, 10], [5, 'F', 255.0, -41.09090909090909, 11.068181818181818, -37.25, -0.022727272727272728, -251.29545454545453, 11], [5, 'F', 254.6590909090909, -39.04545454545455, -25.295454545454547, 4.75, -0.022727272727272728, -254.11363636363637, 12], [8, 'M', 8.175, 79.175, -243.5, -216.75, 7.1, 129.95, 1], [8, 'M', 21.363636363636363, 61.88636363636363, -248.11363636363637, -215.9318181818182, -0.022727272727272728, 133.9090909090909, 2], [8, 'M', 12.5, 82.95454545454545, -241.97727272727272, -236.0, 9.181818181818182, 85.02272727272727, 3], [8, 'M', 19.727272727272727, -121.70454545454545, 228.8409090909091, 215.04545454545453, -6.409090909090909, -124.22727272727273, 4], [8, 'M', 25.59090909090909, -99.13636363636364, 239.79545454545453, 208.6818181818182, -8.272727272727273, -132.45454545454547, 5], [8, 'M', -14.439024390243903, -115.65853658536585, 231.82926829268294, 246.90243902439025, 20.878048780487806, 16.24390243902439, 6], [8, 'M', -225.45454545454547, -107.11363636363636, 7.5, 99.72727272727273, 0.0, 245.36363636363637, 7], [8, 'M', -210.1818181818182, -132.0681818181818, 7.295454545454546, 90.02272727272727, -27.613636363636363, 248.9090909090909, 8], [8, 'M', -228.22727272727272, -83.5, -55.56818181818182, 77.6590909090909, -30.772727272727273, 252.4090909090909, 9], [8, 'M', 255.22727272727272, -40.38636363636363, 1.7727272727272727, -34.93181818181818, -2.4545454545454546, -251.02272727272728, 10], [8, 'M', 255.0, -41.09090909090909, 11.068181818181818, -37.25, -0.022727272727272728, -251.29545454545453, 11], [8, 'M', 254.6590909090909, -39.04545454545455, -25.295454545454547, 4.75, -0.022727272727272728, -254.11363636363637, 12], [10, 'M', 8.175, 79.175, -243.5, -216.75, 7.1, 129.95, 1], [10, 'M', 21.363636363636363, 61.88636363636363, -248.11363636363637, -215.9318181818182, -0.022727272727272728, 133.9090909090909, 2], [10, 'M', 12.5, 82.95454545454545, -241.97727272727272, -236.0, 9.181818181818182, 85.02272727272727, 3], [10, 'M', 19.727272727272727, -121.70454545454545, 228.8409090909091, 215.04545454545453, -6.409090909090909, -124.22727272727273, 4], [10, 'M', 25.59090909090909, -99.13636363636364, 239.79545454545453, 208.6818181818182, -8.272727272727273, -132.45454545454547, 5], [10, 'M', -14.439024390243903, -115.65853658536585, 231.82926829268294, 246.90243902439025, 20.878048780487806, 16.24390243902439, 6], [10, 'M', -225.45454545454547, -107.11363636363636, 7.5, 99.72727272727273, 0.0, 245.36363636363637, 7], [10, 'M', -210.1818181818182, -132.0681818181818, 7.295454545454546, 90.02272727272727, -27.613636363636363, 248.9090909090909, 8], [10, 'M', -228.22727272727272, -83.5, -55.56818181818182, 77.6590909090909, -30.772727272727273, 252.4090909090909, 9], [10, 'M', 255.22727272727272, -40.38636363636363, 1.7727272727272727, -34.93181818181818, -2.4545454545454546, -251.02272727272728, 10], [10, 'M', 255.0, -41.09090909090909, 11.068181818181818, -37.25, -0.022727272727272728, -251.29545454545453, 11], [10, 'M', 254.6590909090909, -39.04545454545455, -25.295454545454547, 4.75, -0.022727272727272728, -254.11363636363637, 12], [11, 'M', 8.175, 79.175, -243.5, -216.75, 7.1, 129.95, 1], [11, 'M', 21.363636363636363, 61.88636363636363, -248.11363636363637, -215.9318181818182, -0.022727272727272728, 133.9090909090909, 2], [11, 'M', 12.5, 82.95454545454545, -241.97727272727272, -236.0, 9.181818181818182, 85.02272727272727, 3], [11, 'M', 19.727272727272727, -121.70454545454545, 228.8409090909091, 215.04545454545453, -6.409090909090909, -124.22727272727273, 4], [11, 'M', 25.59090909090909, -99.13636363636364, 239.79545454545453, 208.6818181818182, -8.272727272727273, -132.45454545454547, 5], [11, 'M', -14.439024390243903, -115.65853658536585, 231.82926829268294, 246.90243902439025, 20.878048780487806, 16.24390243902439, 6], [11, 'M', -225.45454545454547, -107.11363636363636, 7.5, 99.72727272727273, 0.0, 245.36363636363637, 7], [11, 'M', -210.1818181818182, -132.0681818181818, 7.295454545454546, 90.02272727272727, -27.613636363636363, 248.9090909090909, 8], [11, 'M', -228.22727272727272, -83.5, -55.56818181818182, 77.6590909090909, -30.772727272727273, 252.4090909090909, 9], [11, 'M', 255.22727272727272, -40.38636363636363, 1.7727272727272727, -34.93181818181818, -2.4545454545454546, -251.02272727272728, 10], [11, 'M', 255.0, -41.09090909090909, 11.068181818181818, -37.25, -0.022727272727272728, -251.29545454545453, 11], [11, 'M', 254.6590909090909, -39.04545454545455, -25.295454545454547, 4.75, -0.022727272727272728, -254.11363636363637, 12]]\n",
      "[[6, 'F', 8.175, 79.175, -243.5, -216.75, 7.1, 129.95, 1], [6, 'F', 21.363636363636363, 61.88636363636363, -248.11363636363637, -215.9318181818182, -0.022727272727272728, 133.9090909090909, 2], [6, 'F', 12.5, 82.95454545454545, -241.97727272727272, -236.0, 9.181818181818182, 85.02272727272727, 3], [6, 'F', 19.727272727272727, -121.70454545454545, 228.8409090909091, 215.04545454545453, -6.409090909090909, -124.22727272727273, 4], [6, 'F', 25.59090909090909, -99.13636363636364, 239.79545454545453, 208.6818181818182, -8.272727272727273, -132.45454545454547, 5], [6, 'F', -14.439024390243903, -115.65853658536585, 231.82926829268294, 246.90243902439025, 20.878048780487806, 16.24390243902439, 6], [6, 'F', -225.45454545454547, -107.11363636363636, 7.5, 99.72727272727273, 0.0, 245.36363636363637, 7], [6, 'F', -210.1818181818182, -132.0681818181818, 7.295454545454546, 90.02272727272727, -27.613636363636363, 248.9090909090909, 8], [6, 'F', -228.22727272727272, -83.5, -55.56818181818182, 77.6590909090909, -30.772727272727273, 252.4090909090909, 9], [6, 'F', 255.22727272727272, -40.38636363636363, 1.7727272727272727, -34.93181818181818, -2.4545454545454546, -251.02272727272728, 10], [6, 'F', 255.0, -41.09090909090909, 11.068181818181818, -37.25, -0.022727272727272728, -251.29545454545453, 11], [6, 'F', 254.6590909090909, -39.04545454545455, -25.295454545454547, 4.75, -0.022727272727272728, -254.11363636363637, 12], [7, 'F', 8.175, 79.175, -243.5, -216.75, 7.1, 129.95, 1], [7, 'F', 21.363636363636363, 61.88636363636363, -248.11363636363637, -215.9318181818182, -0.022727272727272728, 133.9090909090909, 2], [7, 'F', 12.5, 82.95454545454545, -241.97727272727272, -236.0, 9.181818181818182, 85.02272727272727, 3], [7, 'F', 19.727272727272727, -121.70454545454545, 228.8409090909091, 215.04545454545453, -6.409090909090909, -124.22727272727273, 4], [7, 'F', 25.59090909090909, -99.13636363636364, 239.79545454545453, 208.6818181818182, -8.272727272727273, -132.45454545454547, 5], [7, 'F', -14.439024390243903, -115.65853658536585, 231.82926829268294, 246.90243902439025, 20.878048780487806, 16.24390243902439, 6], [7, 'F', -225.45454545454547, -107.11363636363636, 7.5, 99.72727272727273, 0.0, 245.36363636363637, 7], [7, 'F', -210.1818181818182, -132.0681818181818, 7.295454545454546, 90.02272727272727, -27.613636363636363, 248.9090909090909, 8], [7, 'F', -228.22727272727272, -83.5, -55.56818181818182, 77.6590909090909, -30.772727272727273, 252.4090909090909, 9], [7, 'F', 255.22727272727272, -40.38636363636363, 1.7727272727272727, -34.93181818181818, -2.4545454545454546, -251.02272727272728, 10], [7, 'F', 255.0, -41.09090909090909, 11.068181818181818, -37.25, -0.022727272727272728, -251.29545454545453, 11], [7, 'F', 254.6590909090909, -39.04545454545455, -25.295454545454547, 4.75, -0.022727272727272728, -254.11363636363637, 12], [9, 'M', 8.175, 79.175, -243.5, -216.75, 7.1, 129.95, 1], [9, 'M', 21.363636363636363, 61.88636363636363, -248.11363636363637, -215.9318181818182, -0.022727272727272728, 133.9090909090909, 2], [9, 'M', 12.5, 82.95454545454545, -241.97727272727272, -236.0, 9.181818181818182, 85.02272727272727, 3], [9, 'M', 19.727272727272727, -121.70454545454545, 228.8409090909091, 215.04545454545453, -6.409090909090909, -124.22727272727273, 4], [9, 'M', 25.59090909090909, -99.13636363636364, 239.79545454545453, 208.6818181818182, -8.272727272727273, -132.45454545454547, 5], [9, 'M', -14.439024390243903, -115.65853658536585, 231.82926829268294, 246.90243902439025, 20.878048780487806, 16.24390243902439, 6], [9, 'M', -225.45454545454547, -107.11363636363636, 7.5, 99.72727272727273, 0.0, 245.36363636363637, 7], [9, 'M', -210.1818181818182, -132.0681818181818, 7.295454545454546, 90.02272727272727, -27.613636363636363, 248.9090909090909, 8], [9, 'M', -228.22727272727272, -83.5, -55.56818181818182, 77.6590909090909, -30.772727272727273, 252.4090909090909, 9], [9, 'M', 255.22727272727272, -40.38636363636363, 1.7727272727272727, -34.93181818181818, -2.4545454545454546, -251.02272727272728, 10], [9, 'M', 255.0, -41.09090909090909, 11.068181818181818, -37.25, -0.022727272727272728, -251.29545454545453, 11], [9, 'M', 254.6590909090909, -39.04545454545455, -25.295454545454547, 4.75, -0.022727272727272728, -254.11363636363637, 12]]\n"
     ]
    }
   ],
   "source": [
    "#initialize train and test set\n",
    "train_set= []\n",
    "test_set= []\n",
    "\n",
    "for i in range(len(whole_dataset_list)):\n",
    "    #print (i)\n",
    "    curr_pt = whole_dataset_list[i]\n",
    "    #print (curr_pt)\n",
    "    curr_pt_id= curr_pt[0]\n",
    "    #print (curr_pt_id)\n",
    "\n",
    "    if(curr_pt_id in train_set_by_patientID):\n",
    "        train_set.append(whole_dataset_list[i])\n",
    "    elif(curr_pt_id in test_set_by_patientID):\n",
    "        test_set.append(whole_dataset_list[i])\n",
    "    else:\n",
    "        print (\"not found\", i)\n",
    "\n",
    "print (train_set)\n",
    "print (test_set)"
   ]
  },
  {
   "cell_type": "code",
   "execution_count": null,
   "metadata": {
    "colab": {
     "base_uri": "https://localhost:8080/",
     "height": 441
    },
    "id": "OV_IA-vgEMmb",
    "outputId": "06def39e-015b-476a-c1ea-ab0f2694216b"
   },
   "outputs": [
    {
     "name": "stdout",
     "output_type": "stream",
     "text": [
      "(96, 9) (36, 9)\n"
     ]
    },
    {
     "data": {
      "text/html": [
       "\n",
       "  <div id=\"df-ac6afbfe-3626-4a8c-a737-513f2baf2021\">\n",
       "    <div class=\"colab-df-container\">\n",
       "      <div>\n",
       "<style scoped>\n",
       "    .dataframe tbody tr th:only-of-type {\n",
       "        vertical-align: middle;\n",
       "    }\n",
       "\n",
       "    .dataframe tbody tr th {\n",
       "        vertical-align: top;\n",
       "    }\n",
       "\n",
       "    .dataframe thead th {\n",
       "        text-align: right;\n",
       "    }\n",
       "</style>\n",
       "<table border=\"1\" class=\"dataframe\">\n",
       "  <thead>\n",
       "    <tr style=\"text-align: right;\">\n",
       "      <th></th>\n",
       "      <th>subject_id</th>\n",
       "      <th>sex</th>\n",
       "      <th>x_chest_avg</th>\n",
       "      <th>y_chest_avg</th>\n",
       "      <th>z_chest_avg</th>\n",
       "      <th>x_ankle_avg</th>\n",
       "      <th>y_ankle_avg</th>\n",
       "      <th>z_ankle_avg</th>\n",
       "      <th>position</th>\n",
       "    </tr>\n",
       "  </thead>\n",
       "  <tbody>\n",
       "    <tr>\n",
       "      <th>0</th>\n",
       "      <td>1</td>\n",
       "      <td>F</td>\n",
       "      <td>8.175000</td>\n",
       "      <td>79.175000</td>\n",
       "      <td>-243.500000</td>\n",
       "      <td>-216.750000</td>\n",
       "      <td>7.100000</td>\n",
       "      <td>129.950000</td>\n",
       "      <td>1</td>\n",
       "    </tr>\n",
       "    <tr>\n",
       "      <th>1</th>\n",
       "      <td>1</td>\n",
       "      <td>F</td>\n",
       "      <td>21.363636</td>\n",
       "      <td>61.886364</td>\n",
       "      <td>-248.113636</td>\n",
       "      <td>-215.931818</td>\n",
       "      <td>-0.022727</td>\n",
       "      <td>133.909091</td>\n",
       "      <td>2</td>\n",
       "    </tr>\n",
       "    <tr>\n",
       "      <th>2</th>\n",
       "      <td>1</td>\n",
       "      <td>F</td>\n",
       "      <td>12.500000</td>\n",
       "      <td>82.954545</td>\n",
       "      <td>-241.977273</td>\n",
       "      <td>-236.000000</td>\n",
       "      <td>9.181818</td>\n",
       "      <td>85.022727</td>\n",
       "      <td>3</td>\n",
       "    </tr>\n",
       "    <tr>\n",
       "      <th>3</th>\n",
       "      <td>1</td>\n",
       "      <td>F</td>\n",
       "      <td>19.727273</td>\n",
       "      <td>-121.704545</td>\n",
       "      <td>228.840909</td>\n",
       "      <td>215.045455</td>\n",
       "      <td>-6.409091</td>\n",
       "      <td>-124.227273</td>\n",
       "      <td>4</td>\n",
       "    </tr>\n",
       "    <tr>\n",
       "      <th>4</th>\n",
       "      <td>1</td>\n",
       "      <td>F</td>\n",
       "      <td>25.590909</td>\n",
       "      <td>-99.136364</td>\n",
       "      <td>239.795455</td>\n",
       "      <td>208.681818</td>\n",
       "      <td>-8.272727</td>\n",
       "      <td>-132.454545</td>\n",
       "      <td>5</td>\n",
       "    </tr>\n",
       "    <tr>\n",
       "      <th>...</th>\n",
       "      <td>...</td>\n",
       "      <td>...</td>\n",
       "      <td>...</td>\n",
       "      <td>...</td>\n",
       "      <td>...</td>\n",
       "      <td>...</td>\n",
       "      <td>...</td>\n",
       "      <td>...</td>\n",
       "      <td>...</td>\n",
       "    </tr>\n",
       "    <tr>\n",
       "      <th>91</th>\n",
       "      <td>11</td>\n",
       "      <td>M</td>\n",
       "      <td>-210.181818</td>\n",
       "      <td>-132.068182</td>\n",
       "      <td>7.295455</td>\n",
       "      <td>90.022727</td>\n",
       "      <td>-27.613636</td>\n",
       "      <td>248.909091</td>\n",
       "      <td>8</td>\n",
       "    </tr>\n",
       "    <tr>\n",
       "      <th>92</th>\n",
       "      <td>11</td>\n",
       "      <td>M</td>\n",
       "      <td>-228.227273</td>\n",
       "      <td>-83.500000</td>\n",
       "      <td>-55.568182</td>\n",
       "      <td>77.659091</td>\n",
       "      <td>-30.772727</td>\n",
       "      <td>252.409091</td>\n",
       "      <td>9</td>\n",
       "    </tr>\n",
       "    <tr>\n",
       "      <th>93</th>\n",
       "      <td>11</td>\n",
       "      <td>M</td>\n",
       "      <td>255.227273</td>\n",
       "      <td>-40.386364</td>\n",
       "      <td>1.772727</td>\n",
       "      <td>-34.931818</td>\n",
       "      <td>-2.454545</td>\n",
       "      <td>-251.022727</td>\n",
       "      <td>10</td>\n",
       "    </tr>\n",
       "    <tr>\n",
       "      <th>94</th>\n",
       "      <td>11</td>\n",
       "      <td>M</td>\n",
       "      <td>255.000000</td>\n",
       "      <td>-41.090909</td>\n",
       "      <td>11.068182</td>\n",
       "      <td>-37.250000</td>\n",
       "      <td>-0.022727</td>\n",
       "      <td>-251.295455</td>\n",
       "      <td>11</td>\n",
       "    </tr>\n",
       "    <tr>\n",
       "      <th>95</th>\n",
       "      <td>11</td>\n",
       "      <td>M</td>\n",
       "      <td>254.659091</td>\n",
       "      <td>-39.045455</td>\n",
       "      <td>-25.295455</td>\n",
       "      <td>4.750000</td>\n",
       "      <td>-0.022727</td>\n",
       "      <td>-254.113636</td>\n",
       "      <td>12</td>\n",
       "    </tr>\n",
       "  </tbody>\n",
       "</table>\n",
       "<p>96 rows × 9 columns</p>\n",
       "</div>\n",
       "      <button class=\"colab-df-convert\" onclick=\"convertToInteractive('df-ac6afbfe-3626-4a8c-a737-513f2baf2021')\"\n",
       "              title=\"Convert this dataframe to an interactive table.\"\n",
       "              style=\"display:none;\">\n",
       "        \n",
       "  <svg xmlns=\"http://www.w3.org/2000/svg\" height=\"24px\"viewBox=\"0 0 24 24\"\n",
       "       width=\"24px\">\n",
       "    <path d=\"M0 0h24v24H0V0z\" fill=\"none\"/>\n",
       "    <path d=\"M18.56 5.44l.94 2.06.94-2.06 2.06-.94-2.06-.94-.94-2.06-.94 2.06-2.06.94zm-11 1L8.5 8.5l.94-2.06 2.06-.94-2.06-.94L8.5 2.5l-.94 2.06-2.06.94zm10 10l.94 2.06.94-2.06 2.06-.94-2.06-.94-.94-2.06-.94 2.06-2.06.94z\"/><path d=\"M17.41 7.96l-1.37-1.37c-.4-.4-.92-.59-1.43-.59-.52 0-1.04.2-1.43.59L10.3 9.45l-7.72 7.72c-.78.78-.78 2.05 0 2.83L4 21.41c.39.39.9.59 1.41.59.51 0 1.02-.2 1.41-.59l7.78-7.78 2.81-2.81c.8-.78.8-2.07 0-2.86zM5.41 20L4 18.59l7.72-7.72 1.47 1.35L5.41 20z\"/>\n",
       "  </svg>\n",
       "      </button>\n",
       "      \n",
       "  <style>\n",
       "    .colab-df-container {\n",
       "      display:flex;\n",
       "      flex-wrap:wrap;\n",
       "      gap: 12px;\n",
       "    }\n",
       "\n",
       "    .colab-df-convert {\n",
       "      background-color: #E8F0FE;\n",
       "      border: none;\n",
       "      border-radius: 50%;\n",
       "      cursor: pointer;\n",
       "      display: none;\n",
       "      fill: #1967D2;\n",
       "      height: 32px;\n",
       "      padding: 0 0 0 0;\n",
       "      width: 32px;\n",
       "    }\n",
       "\n",
       "    .colab-df-convert:hover {\n",
       "      background-color: #E2EBFA;\n",
       "      box-shadow: 0px 1px 2px rgba(60, 64, 67, 0.3), 0px 1px 3px 1px rgba(60, 64, 67, 0.15);\n",
       "      fill: #174EA6;\n",
       "    }\n",
       "\n",
       "    [theme=dark] .colab-df-convert {\n",
       "      background-color: #3B4455;\n",
       "      fill: #D2E3FC;\n",
       "    }\n",
       "\n",
       "    [theme=dark] .colab-df-convert:hover {\n",
       "      background-color: #434B5C;\n",
       "      box-shadow: 0px 1px 3px 1px rgba(0, 0, 0, 0.15);\n",
       "      filter: drop-shadow(0px 1px 2px rgba(0, 0, 0, 0.3));\n",
       "      fill: #FFFFFF;\n",
       "    }\n",
       "  </style>\n",
       "\n",
       "      <script>\n",
       "        const buttonEl =\n",
       "          document.querySelector('#df-ac6afbfe-3626-4a8c-a737-513f2baf2021 button.colab-df-convert');\n",
       "        buttonEl.style.display =\n",
       "          google.colab.kernel.accessAllowed ? 'block' : 'none';\n",
       "\n",
       "        async function convertToInteractive(key) {\n",
       "          const element = document.querySelector('#df-ac6afbfe-3626-4a8c-a737-513f2baf2021');\n",
       "          const dataTable =\n",
       "            await google.colab.kernel.invokeFunction('convertToInteractive',\n",
       "                                                     [key], {});\n",
       "          if (!dataTable) return;\n",
       "\n",
       "          const docLinkHtml = 'Like what you see? Visit the ' +\n",
       "            '<a target=\"_blank\" href=https://colab.research.google.com/notebooks/data_table.ipynb>data table notebook</a>'\n",
       "            + ' to learn more about interactive tables.';\n",
       "          element.innerHTML = '';\n",
       "          dataTable['output_type'] = 'display_data';\n",
       "          await google.colab.output.renderOutput(dataTable, element);\n",
       "          const docLink = document.createElement('div');\n",
       "          docLink.innerHTML = docLinkHtml;\n",
       "          element.appendChild(docLink);\n",
       "        }\n",
       "      </script>\n",
       "    </div>\n",
       "  </div>\n",
       "  "
      ],
      "text/plain": [
       "    subject_id sex  x_chest_avg  y_chest_avg  z_chest_avg  x_ankle_avg  \\\n",
       "0            1   F     8.175000    79.175000  -243.500000  -216.750000   \n",
       "1            1   F    21.363636    61.886364  -248.113636  -215.931818   \n",
       "2            1   F    12.500000    82.954545  -241.977273  -236.000000   \n",
       "3            1   F    19.727273  -121.704545   228.840909   215.045455   \n",
       "4            1   F    25.590909   -99.136364   239.795455   208.681818   \n",
       "..         ...  ..          ...          ...          ...          ...   \n",
       "91          11   M  -210.181818  -132.068182     7.295455    90.022727   \n",
       "92          11   M  -228.227273   -83.500000   -55.568182    77.659091   \n",
       "93          11   M   255.227273   -40.386364     1.772727   -34.931818   \n",
       "94          11   M   255.000000   -41.090909    11.068182   -37.250000   \n",
       "95          11   M   254.659091   -39.045455   -25.295455     4.750000   \n",
       "\n",
       "    y_ankle_avg  z_ankle_avg  position  \n",
       "0      7.100000   129.950000         1  \n",
       "1     -0.022727   133.909091         2  \n",
       "2      9.181818    85.022727         3  \n",
       "3     -6.409091  -124.227273         4  \n",
       "4     -8.272727  -132.454545         5  \n",
       "..          ...          ...       ...  \n",
       "91   -27.613636   248.909091         8  \n",
       "92   -30.772727   252.409091         9  \n",
       "93    -2.454545  -251.022727        10  \n",
       "94    -0.022727  -251.295455        11  \n",
       "95    -0.022727  -254.113636        12  \n",
       "\n",
       "[96 rows x 9 columns]"
      ]
     },
     "metadata": {},
     "output_type": "display_data"
    }
   ],
   "source": [
    "train_df = pd.DataFrame(train_set, columns=df.columns)\n",
    "test_df = pd.DataFrame(test_set, columns=df.columns)\n",
    "print(train_df.shape,test_df.shape)\n",
    "\n",
    "display(train_df)\n",
    "#display(test_df)"
   ]
  },
  {
   "cell_type": "code",
   "execution_count": null,
   "metadata": {
    "colab": {
     "base_uri": "https://localhost:8080/",
     "height": 424
    },
    "id": "V3mJaDN6ERWy",
    "outputId": "ec87f814-e1f6-4143-c4fe-24b1c5d5c116"
   },
   "outputs": [
    {
     "data": {
      "text/html": [
       "\n",
       "  <div id=\"df-526edb21-9dd9-4d89-83a4-41315062c00d\">\n",
       "    <div class=\"colab-df-container\">\n",
       "      <div>\n",
       "<style scoped>\n",
       "    .dataframe tbody tr th:only-of-type {\n",
       "        vertical-align: middle;\n",
       "    }\n",
       "\n",
       "    .dataframe tbody tr th {\n",
       "        vertical-align: top;\n",
       "    }\n",
       "\n",
       "    .dataframe thead th {\n",
       "        text-align: right;\n",
       "    }\n",
       "</style>\n",
       "<table border=\"1\" class=\"dataframe\">\n",
       "  <thead>\n",
       "    <tr style=\"text-align: right;\">\n",
       "      <th></th>\n",
       "      <th>x_chest_avg</th>\n",
       "      <th>y_chest_avg</th>\n",
       "      <th>z_chest_avg</th>\n",
       "      <th>x_ankle_avg</th>\n",
       "      <th>y_ankle_avg</th>\n",
       "      <th>z_ankle_avg</th>\n",
       "    </tr>\n",
       "  </thead>\n",
       "  <tbody>\n",
       "    <tr>\n",
       "      <th>0</th>\n",
       "      <td>8.175000</td>\n",
       "      <td>79.175000</td>\n",
       "      <td>-243.500000</td>\n",
       "      <td>-216.750000</td>\n",
       "      <td>7.100000</td>\n",
       "      <td>129.950000</td>\n",
       "    </tr>\n",
       "    <tr>\n",
       "      <th>1</th>\n",
       "      <td>21.363636</td>\n",
       "      <td>61.886364</td>\n",
       "      <td>-248.113636</td>\n",
       "      <td>-215.931818</td>\n",
       "      <td>-0.022727</td>\n",
       "      <td>133.909091</td>\n",
       "    </tr>\n",
       "    <tr>\n",
       "      <th>2</th>\n",
       "      <td>12.500000</td>\n",
       "      <td>82.954545</td>\n",
       "      <td>-241.977273</td>\n",
       "      <td>-236.000000</td>\n",
       "      <td>9.181818</td>\n",
       "      <td>85.022727</td>\n",
       "    </tr>\n",
       "    <tr>\n",
       "      <th>3</th>\n",
       "      <td>19.727273</td>\n",
       "      <td>-121.704545</td>\n",
       "      <td>228.840909</td>\n",
       "      <td>215.045455</td>\n",
       "      <td>-6.409091</td>\n",
       "      <td>-124.227273</td>\n",
       "    </tr>\n",
       "    <tr>\n",
       "      <th>4</th>\n",
       "      <td>25.590909</td>\n",
       "      <td>-99.136364</td>\n",
       "      <td>239.795455</td>\n",
       "      <td>208.681818</td>\n",
       "      <td>-8.272727</td>\n",
       "      <td>-132.454545</td>\n",
       "    </tr>\n",
       "    <tr>\n",
       "      <th>...</th>\n",
       "      <td>...</td>\n",
       "      <td>...</td>\n",
       "      <td>...</td>\n",
       "      <td>...</td>\n",
       "      <td>...</td>\n",
       "      <td>...</td>\n",
       "    </tr>\n",
       "    <tr>\n",
       "      <th>91</th>\n",
       "      <td>-210.181818</td>\n",
       "      <td>-132.068182</td>\n",
       "      <td>7.295455</td>\n",
       "      <td>90.022727</td>\n",
       "      <td>-27.613636</td>\n",
       "      <td>248.909091</td>\n",
       "    </tr>\n",
       "    <tr>\n",
       "      <th>92</th>\n",
       "      <td>-228.227273</td>\n",
       "      <td>-83.500000</td>\n",
       "      <td>-55.568182</td>\n",
       "      <td>77.659091</td>\n",
       "      <td>-30.772727</td>\n",
       "      <td>252.409091</td>\n",
       "    </tr>\n",
       "    <tr>\n",
       "      <th>93</th>\n",
       "      <td>255.227273</td>\n",
       "      <td>-40.386364</td>\n",
       "      <td>1.772727</td>\n",
       "      <td>-34.931818</td>\n",
       "      <td>-2.454545</td>\n",
       "      <td>-251.022727</td>\n",
       "    </tr>\n",
       "    <tr>\n",
       "      <th>94</th>\n",
       "      <td>255.000000</td>\n",
       "      <td>-41.090909</td>\n",
       "      <td>11.068182</td>\n",
       "      <td>-37.250000</td>\n",
       "      <td>-0.022727</td>\n",
       "      <td>-251.295455</td>\n",
       "    </tr>\n",
       "    <tr>\n",
       "      <th>95</th>\n",
       "      <td>254.659091</td>\n",
       "      <td>-39.045455</td>\n",
       "      <td>-25.295455</td>\n",
       "      <td>4.750000</td>\n",
       "      <td>-0.022727</td>\n",
       "      <td>-254.113636</td>\n",
       "    </tr>\n",
       "  </tbody>\n",
       "</table>\n",
       "<p>96 rows × 6 columns</p>\n",
       "</div>\n",
       "      <button class=\"colab-df-convert\" onclick=\"convertToInteractive('df-526edb21-9dd9-4d89-83a4-41315062c00d')\"\n",
       "              title=\"Convert this dataframe to an interactive table.\"\n",
       "              style=\"display:none;\">\n",
       "        \n",
       "  <svg xmlns=\"http://www.w3.org/2000/svg\" height=\"24px\"viewBox=\"0 0 24 24\"\n",
       "       width=\"24px\">\n",
       "    <path d=\"M0 0h24v24H0V0z\" fill=\"none\"/>\n",
       "    <path d=\"M18.56 5.44l.94 2.06.94-2.06 2.06-.94-2.06-.94-.94-2.06-.94 2.06-2.06.94zm-11 1L8.5 8.5l.94-2.06 2.06-.94-2.06-.94L8.5 2.5l-.94 2.06-2.06.94zm10 10l.94 2.06.94-2.06 2.06-.94-2.06-.94-.94-2.06-.94 2.06-2.06.94z\"/><path d=\"M17.41 7.96l-1.37-1.37c-.4-.4-.92-.59-1.43-.59-.52 0-1.04.2-1.43.59L10.3 9.45l-7.72 7.72c-.78.78-.78 2.05 0 2.83L4 21.41c.39.39.9.59 1.41.59.51 0 1.02-.2 1.41-.59l7.78-7.78 2.81-2.81c.8-.78.8-2.07 0-2.86zM5.41 20L4 18.59l7.72-7.72 1.47 1.35L5.41 20z\"/>\n",
       "  </svg>\n",
       "      </button>\n",
       "      \n",
       "  <style>\n",
       "    .colab-df-container {\n",
       "      display:flex;\n",
       "      flex-wrap:wrap;\n",
       "      gap: 12px;\n",
       "    }\n",
       "\n",
       "    .colab-df-convert {\n",
       "      background-color: #E8F0FE;\n",
       "      border: none;\n",
       "      border-radius: 50%;\n",
       "      cursor: pointer;\n",
       "      display: none;\n",
       "      fill: #1967D2;\n",
       "      height: 32px;\n",
       "      padding: 0 0 0 0;\n",
       "      width: 32px;\n",
       "    }\n",
       "\n",
       "    .colab-df-convert:hover {\n",
       "      background-color: #E2EBFA;\n",
       "      box-shadow: 0px 1px 2px rgba(60, 64, 67, 0.3), 0px 1px 3px 1px rgba(60, 64, 67, 0.15);\n",
       "      fill: #174EA6;\n",
       "    }\n",
       "\n",
       "    [theme=dark] .colab-df-convert {\n",
       "      background-color: #3B4455;\n",
       "      fill: #D2E3FC;\n",
       "    }\n",
       "\n",
       "    [theme=dark] .colab-df-convert:hover {\n",
       "      background-color: #434B5C;\n",
       "      box-shadow: 0px 1px 3px 1px rgba(0, 0, 0, 0.15);\n",
       "      filter: drop-shadow(0px 1px 2px rgba(0, 0, 0, 0.3));\n",
       "      fill: #FFFFFF;\n",
       "    }\n",
       "  </style>\n",
       "\n",
       "      <script>\n",
       "        const buttonEl =\n",
       "          document.querySelector('#df-526edb21-9dd9-4d89-83a4-41315062c00d button.colab-df-convert');\n",
       "        buttonEl.style.display =\n",
       "          google.colab.kernel.accessAllowed ? 'block' : 'none';\n",
       "\n",
       "        async function convertToInteractive(key) {\n",
       "          const element = document.querySelector('#df-526edb21-9dd9-4d89-83a4-41315062c00d');\n",
       "          const dataTable =\n",
       "            await google.colab.kernel.invokeFunction('convertToInteractive',\n",
       "                                                     [key], {});\n",
       "          if (!dataTable) return;\n",
       "\n",
       "          const docLinkHtml = 'Like what you see? Visit the ' +\n",
       "            '<a target=\"_blank\" href=https://colab.research.google.com/notebooks/data_table.ipynb>data table notebook</a>'\n",
       "            + ' to learn more about interactive tables.';\n",
       "          element.innerHTML = '';\n",
       "          dataTable['output_type'] = 'display_data';\n",
       "          await google.colab.output.renderOutput(dataTable, element);\n",
       "          const docLink = document.createElement('div');\n",
       "          docLink.innerHTML = docLinkHtml;\n",
       "          element.appendChild(docLink);\n",
       "        }\n",
       "      </script>\n",
       "    </div>\n",
       "  </div>\n",
       "  "
      ],
      "text/plain": [
       "    x_chest_avg  y_chest_avg  z_chest_avg  x_ankle_avg  y_ankle_avg  \\\n",
       "0      8.175000    79.175000  -243.500000  -216.750000     7.100000   \n",
       "1     21.363636    61.886364  -248.113636  -215.931818    -0.022727   \n",
       "2     12.500000    82.954545  -241.977273  -236.000000     9.181818   \n",
       "3     19.727273  -121.704545   228.840909   215.045455    -6.409091   \n",
       "4     25.590909   -99.136364   239.795455   208.681818    -8.272727   \n",
       "..          ...          ...          ...          ...          ...   \n",
       "91  -210.181818  -132.068182     7.295455    90.022727   -27.613636   \n",
       "92  -228.227273   -83.500000   -55.568182    77.659091   -30.772727   \n",
       "93   255.227273   -40.386364     1.772727   -34.931818    -2.454545   \n",
       "94   255.000000   -41.090909    11.068182   -37.250000    -0.022727   \n",
       "95   254.659091   -39.045455   -25.295455     4.750000    -0.022727   \n",
       "\n",
       "    z_ankle_avg  \n",
       "0    129.950000  \n",
       "1    133.909091  \n",
       "2     85.022727  \n",
       "3   -124.227273  \n",
       "4   -132.454545  \n",
       "..          ...  \n",
       "91   248.909091  \n",
       "92   252.409091  \n",
       "93  -251.022727  \n",
       "94  -251.295455  \n",
       "95  -254.113636  \n",
       "\n",
       "[96 rows x 6 columns]"
      ]
     },
     "execution_count": 17,
     "metadata": {},
     "output_type": "execute_result"
    }
   ],
   "source": [
    "X_train= train_df[[\"x_chest_avg\", \"y_chest_avg\", \"z_chest_avg\", \"x_ankle_avg\", \"y_ankle_avg\", \"z_ankle_avg\"]]\n",
    "y_train= train_df['position']\n",
    "\n",
    "X_test= test_df[[\"x_chest_avg\", \"y_chest_avg\", \"z_chest_avg\", \"x_ankle_avg\", \"y_ankle_avg\", \"z_ankle_avg\"]]\n",
    "y_test= test_df['position']\n",
    "\n",
    "X_train"
   ]
  },
  {
   "cell_type": "markdown",
   "metadata": {
    "id": "PzTCraBy5kZ8"
   },
   "source": [
    "# **Randomizer the gss way :(**"
   ]
  },
  {
   "cell_type": "code",
   "execution_count": null,
   "metadata": {
    "colab": {
     "base_uri": "https://localhost:8080/"
    },
    "id": "mFGQT1ya_8jQ",
    "outputId": "b69c76ce-b78d-4170-dc2d-fc7e42608e15"
   },
   "outputs": [
    {
     "name": "stdout",
     "output_type": "stream",
     "text": [
      "2.0     12\n",
      "3.0     12\n",
      "4.0     12\n",
      "7.0     12\n",
      "9.0     12\n",
      "10.0    12\n",
      "11.0    12\n",
      "Name: subject_id, dtype: int64 1.0    12\n",
      "5.0    12\n",
      "6.0    12\n",
      "8.0    12\n",
      "Name: subject_id, dtype: int64\n"
     ]
    },
    {
     "data": {
      "text/plain": [
       "13     2\n",
       "26     3\n",
       "37     2\n",
       "10    11\n",
       "30     7\n",
       "Name: position, dtype: int64"
      ]
     },
     "execution_count": 12,
     "metadata": {},
     "output_type": "execute_result"
    }
   ],
   "source": [
    "gss = GroupShuffleSplit (n_splits=1, train_size=.7, random_state=123)\n",
    "gss.get_n_splits()\n",
    "\n",
    "X= dataset[[\"subject_id\", \"x_chest_avg\", \"y_chest_avg\", \"z_chest_avg\", \"x_ankle_avg\", \"y_ankle_avg\", \"z_ankle_avg\"]]\n",
    "position= dataset[\"position\"]\n",
    "subject_id =dataset[\"subject_id\"]\n",
    "\n",
    "for train_idx, test_idx in gss.split(X, position, subject_id):\n",
    "    X_train1 = np.array(X)[train_idx]\n",
    "    y_train1 = np.array(position)[train_idx]\n",
    "    X_test1 = np.array(X)[test_idx]\n",
    "    y_test1 = np.array(position)[test_idx]\n",
    "\n",
    "X_train= pd.DataFrame(X_train1, columns=['subject_id', 'x_chest_avg', 'y_chest_avg', 'z_chest_avg', 'x_ankle_avg', 'y_ankle_avg', 'z_ankle_avg'])\n",
    "y_train= pd.DataFrame(y_train1, columns=['position'])\n",
    "X_test= pd.DataFrame(X_test1, columns=['subject_id', 'x_chest_avg', 'y_chest_avg', 'z_chest_avg', 'x_ankle_avg', 'y_ankle_avg', 'z_ankle_avg'])\n",
    "y_test= pd.DataFrame(y_test1, columns=['position'])\n",
    "\n",
    "print(X_train['subject_id'].value_counts(), X_test['subject_id'].value_counts())\n",
    "\n",
    "df_train = pd.concat([X_train, y_train], axis = 1)\n",
    "df_train = df_train.sample(frac=1)\n",
    "df_test = pd.concat([X_test, y_test], axis = 1)\n",
    "df_test = df_test.sample(frac=1)\n",
    "\n",
    "X_train = df_train.drop(['position'], axis=1)\n",
    "y_train = df_train[['position']]\n",
    "X_test = df_test.drop(['position'], axis=1)\n",
    "y_test = df_test['position']\n",
    "\n",
    "#y_train.reset_index(drop=True, inplace=True)\n",
    "#X_train.reset_index(drop=True, inplace=True)\n",
    "#y_test.reset_index(drop=True, inplace=True)\n",
    "#X_test.reset_index(drop=True, inplace=True)\n",
    "\n",
    "#print (\"xtrain\\n\", X_train)\n",
    "#print (\"ytrain\\n\", y_train)\n",
    "#print (\"xtest\\n\", X_test)\n",
    "#print (\"ytest\\n\", y_test)\n",
    "\n",
    "#X_train.head()\n",
    "y_test.head()\n"
   ]
  },
  {
   "cell_type": "markdown",
   "metadata": {
    "id": "oA31pZTbHlQp"
   },
   "source": [
    "# *1o* prog "
   ]
  },
  {
   "cell_type": "code",
   "execution_count": null,
   "metadata": {
    "id": "TcRKLYfoGowR"
   },
   "outputs": [],
   "source": [
    "#Different functions from the sklearn library were needed to apply and evaluate\n",
    "#different classifiers.\n",
    "#Moreover, the implementation of the 'hyperp_search' function was necessary to\n",
    "#find out the optimal parameters for each classification model by using the f1\n",
    "#score as the metric. This function is based on the sklearn function 'GridSearchCV'\n",
    "#which takes as inputs the type of classifier we want to test and the parameters\n",
    "#(among which it will choose the best combination), and performs cross validation\n",
    "#with a 3 split strategy. Furthermore, the function print the f1 score for both\n",
    "#the training and test set in order to assess the presence of overfitting.\n",
    "#Instead, the 'roc' function creates the ROC curve and shows the AUC score for\n",
    "#the optimal model.\n",
    "from sklearn.model_selection import GridSearchCV\n",
    "from sklearn.metrics import confusion_matrix\n",
    "from sklearn.metrics import classification_report\n",
    "from sklearn import metrics\n",
    "from sklearn.metrics import f1_score\n",
    "\n",
    "def hyperp_search(classifier, parameters):\n",
    "    gs = GridSearchCV(classifier, parameters, cv=5, scoring ='accuracy', verbose=0, n_jobs=-1)\n",
    "    gs = gs.fit(X_train, y_train)\n",
    "    #Summarize the results of the GRIDSEARCH\n",
    "    print('***GRIDSEARCH RESULTS***')\n",
    "    best_model = gs.best_estimator_\n",
    "    y_pred = best_model.predict(X_test)\n",
    "    print(\"accuracy_test: \", f1_score(y_test, y_pred, average= 'micro')) \n",
    "    print(confusion_matrix(y_test, y_pred))\n",
    "    print(classification_report(y_test, y_pred))\n",
    "\n",
    "\n",
    "def roc(model,X_train,y_train,X_test,y_test):\n",
    "    model.fit(X_train, y_train)\n",
    "    y_pred = model.predict(X_test)\n",
    "    y_probs = model.predict_proba(X_test)\n",
    "    fpr, tpr, thresholds1=metrics.roc_curve(y_test, y_probs[:,1])\n",
    "    import matplotlib.pyplot as plt\n",
    "    plt.plot(fpr, tpr, label='ROC')\n",
    "    plt.plot([0, 1], [0, 1], color='darkblue', linestyle='--')\n",
    "    plt.xlabel('False Positive Rate')\n",
    "    plt.ylabel('True Positive Rate')\n",
    "    plt.title('Receiver Operating Characteristic (ROC) Curve')\n",
    "    plt.legend()\n",
    "    plt.show()\n",
    "    auc = metrics.roc_auc_score(y_test, y_probs[:,1])\n",
    "\n",
    "    print('AUC: %.5f' % auc)\n",
    "    return (fpr, tpr)"
   ]
  },
  {
   "cell_type": "code",
   "execution_count": null,
   "metadata": {
    "id": "650jylmRb8dB"
   },
   "outputs": [],
   "source": [
    "def hyperp_search2(classifier, parameters, k, X_train, y_train, X_test, y_test):\n",
    "    ''' This function takes as input a classifier (e.g. Decision Tree), a dictionary of parameters, the number of folds k for the cross-valdiation,\n",
    "                                     the train (X_train, y_train) and the test (X_test, y_test) sets\n",
    "                      performs a grid search using the cross-validation method and stores the best set of parameters looking at the performances on the validation sets\n",
    "                      prints the different metrics on the train and the test sets\n",
    "                      returns the best model fitted (refit=True) on the best set of parameters found\n",
    "    '''\n",
    "\n",
    "    # Hyperparameter tuning via cross-validation\n",
    "    gs = GridSearchCV(classifier, parameters, cv=k, scoring = 'accuracy', refit=True, verbose=0, n_jobs=-1) # refit=True refits the model with the best found parameters on the whole dataset\n",
    "    gs = gs.fit(X_train, y_train)\n",
    "\n",
    "    # Prediction on train and test sets with best model found\n",
    "    best_model = gs.best_estimator_\n",
    "    y_test_pred = best_model.predict(X_test)\n",
    "    y_train_pred = best_model.predict(X_train)\n",
    "\n",
    "    # Results display\n",
    "    print(\"\\n \\033[1m ***Best result obtained*** \\033[0m \\n\")\n",
    "    print(\"accuracy (mean cross-validated score): %f using %s\" % (gs.best_score_, gs.best_params_))\n",
    "\n",
    "    print(\"\\n \\033[1m ***Scores obtained on train and test sets with best model*** \\033[0m \\n\")\n",
    "    # print(\"f1          train %.3f   test %.3f\" % (f1_score(y_train, y_train_pred), f1_score(y_test, y_test_pred))) \n",
    "    # print(\"recall      train %.3f   test %.3f\" % (recall_score(y_train, y_train_pred), recall_score(y_test, y_test_pred))) \n",
    "    # print(\"precision   train %.3f   test %.3f\" % (precision_score(y_train, y_train_pred), precision_score(y_test, y_test_pred))) \n",
    "    print(\"accuracy    train %.3f   test %.3f\" % (accuracy_score(y_train, y_train_pred), accuracy_score(y_test, y_test_pred))) \n",
    "\n",
    "    print(\"\\n \\033[1m ***Classification report on test set*** \\033[0m \\n\")\n",
    "    print(classification_report(y_test, y_test_pred, target_names=['1', '2', '3', '4', '5', '6', '7', '8', '9', '10', '11', '12']))\n",
    "\n",
    "    print(\"\\n \\033[1m ***Confusion matrix on test set*** \\033[0m \\n\")\n",
    "    plot_confusion_matrix(best_model, X_test, y_test, display_labels=['1', '2', '3', '4', '5', '6', '7', '8', '9', '10', '11', '12'], values_format='', cmap='Reds')\n",
    "\n",
    "    return best_model"
   ]
  },
  {
   "cell_type": "markdown",
   "metadata": {
    "id": "SPyWo4qKG_TB"
   },
   "source": [
    "# knn"
   ]
  },
  {
   "cell_type": "code",
   "execution_count": null,
   "metadata": {
    "colab": {
     "base_uri": "https://localhost:8080/",
     "height": 963
    },
    "id": "qL78XRDLG76K",
    "outputId": "92b5c823-e709-4a2d-9c8f-df0d944413ba"
   },
   "outputs": [
    {
     "name": "stderr",
     "output_type": "stream",
     "text": [
      "/usr/local/lib/python3.7/dist-packages/sklearn/neighbors/_classification.py:198: DataConversionWarning: A column-vector y was passed when a 1d array was expected. Please change the shape of y to (n_samples,), for example using ravel().\n",
      "  return self._fit(X, y)\n",
      "/usr/local/lib/python3.7/dist-packages/sklearn/utils/deprecation.py:87: FutureWarning: Function plot_confusion_matrix is deprecated; Function `plot_confusion_matrix` is deprecated in 1.0 and will be removed in 1.2. Use one of the class methods: ConfusionMatrixDisplay.from_predictions or ConfusionMatrixDisplay.from_estimator.\n",
      "  warnings.warn(msg, category=FutureWarning)\n"
     ]
    },
    {
     "name": "stdout",
     "output_type": "stream",
     "text": [
      "\n",
      " \u001b[1m ***Best result obtained*** \u001b[0m \n",
      "\n",
      "accuracy (mean cross-validated score): 1.000000 using {'n_neighbors': 3}\n",
      "\n",
      " \u001b[1m ***Scores obtained on train and test sets with best model*** \u001b[0m \n",
      "\n",
      "accuracy    train 1.000   test 1.000\n",
      "\n",
      " \u001b[1m ***Classification report on test set*** \u001b[0m \n",
      "\n",
      "              precision    recall  f1-score   support\n",
      "\n",
      "           1       1.00      1.00      1.00         4\n",
      "           2       1.00      1.00      1.00         4\n",
      "           3       1.00      1.00      1.00         4\n",
      "           4       1.00      1.00      1.00         4\n",
      "           5       1.00      1.00      1.00         4\n",
      "           6       1.00      1.00      1.00         4\n",
      "           7       1.00      1.00      1.00         4\n",
      "           8       1.00      1.00      1.00         4\n",
      "           9       1.00      1.00      1.00         4\n",
      "          10       1.00      1.00      1.00         4\n",
      "          11       1.00      1.00      1.00         4\n",
      "          12       1.00      1.00      1.00         4\n",
      "\n",
      "    accuracy                           1.00        48\n",
      "   macro avg       1.00      1.00      1.00        48\n",
      "weighted avg       1.00      1.00      1.00        48\n",
      "\n",
      "\n",
      " \u001b[1m ***Confusion matrix on test set*** \u001b[0m \n",
      "\n"
     ]
    },
    {
     "data": {
      "text/plain": [
       "KNeighborsClassifier(n_neighbors=3)"
      ]
     },
     "execution_count": 48,
     "metadata": {},
     "output_type": "execute_result"
    },
    {
     "data": {
      "image/png": "[encoded data removed]",
      "text/plain": [
       "<Figure size 432x288 with 2 Axes>"
      ]
     },
     "metadata": {
      "needs_background": "light"
     },
     "output_type": "display_data"
    }
   ],
   "source": [
    "#Search of the optimal parameter 'k' and scoring of both train and test set.\n",
    "from sklearn.neighbors import KNeighborsClassifier\n",
    "classifier = KNeighborsClassifier()\n",
    "#Typical example of the research of the optimal parameters. The presented\n",
    "#results are obtained with the optimal parameters found after some time\n",
    "#consuming personal research.\n",
    "parameters = {'n_neighbors':np.arange(3,50,1)}\n",
    "\n",
    "#In this and each of the models presented in the following steps, the parameters\n",
    "#used in the calculations were chosen according to the best results achieved\n",
    "#by the hyperp_search function.\n",
    "\n",
    "#parameters= {'n_neighbors':[410]}\n",
    "\n",
    "hyperp_search2(classifier, parameters, 5, X_train, y_train, X_test, y_test)\n",
    "#Application of the KNN classifier to the dataset with the optimal parameter\n",
    "#found in the previous step and plotting ofthe ROC curve with its relative AUC score.\n",
    "\n",
    "#model_knn = KNeighborsClassifier(n_neighbors=410)\n",
    "#fpr0,tpr0=roc(model_knn,X_train,y_train,X_test,y_test)"
   ]
  },
  {
   "cell_type": "markdown",
   "metadata": {
    "id": "Zgd_UVUHMxPi"
   },
   "source": [
    "#Decision Tree"
   ]
  },
  {
   "cell_type": "code",
   "execution_count": null,
   "metadata": {
    "colab": {
     "base_uri": "https://localhost:8080/",
     "height": 911
    },
    "id": "cjOCqVPjMzbd",
    "outputId": "344f4349-ef31-4ec9-8de3-a150eed15019"
   },
   "outputs": [
    {
     "name": "stdout",
     "output_type": "stream",
     "text": [
      "\n",
      " \u001b[1m ***Best result obtained*** \u001b[0m \n",
      "\n",
      "accuracy (mean cross-validated score): 1.000000 using {'criterion': 'entropy', 'max_depth': 4, 'min_samples_leaf': 5, 'min_samples_split': 5}\n",
      "\n",
      " \u001b[1m ***Scores obtained on train and test sets with best model*** \u001b[0m \n",
      "\n",
      "accuracy    train 1.000   test 1.000\n",
      "\n",
      " \u001b[1m ***Classification report on test set*** \u001b[0m \n",
      "\n",
      "              precision    recall  f1-score   support\n",
      "\n",
      "           1       1.00      1.00      1.00         4\n",
      "           2       1.00      1.00      1.00         4\n",
      "           3       1.00      1.00      1.00         4\n",
      "           4       1.00      1.00      1.00         4\n",
      "           5       1.00      1.00      1.00         4\n",
      "           6       1.00      1.00      1.00         4\n",
      "           7       1.00      1.00      1.00         4\n",
      "           8       1.00      1.00      1.00         4\n",
      "           9       1.00      1.00      1.00         4\n",
      "          10       1.00      1.00      1.00         4\n",
      "          11       1.00      1.00      1.00         4\n",
      "          12       1.00      1.00      1.00         4\n",
      "\n",
      "    accuracy                           1.00        48\n",
      "   macro avg       1.00      1.00      1.00        48\n",
      "weighted avg       1.00      1.00      1.00        48\n",
      "\n",
      "\n",
      " \u001b[1m ***Confusion matrix on test set*** \u001b[0m \n",
      "\n"
     ]
    },
    {
     "name": "stderr",
     "output_type": "stream",
     "text": [
      "/usr/local/lib/python3.7/dist-packages/sklearn/utils/deprecation.py:87: FutureWarning: Function plot_confusion_matrix is deprecated; Function `plot_confusion_matrix` is deprecated in 1.0 and will be removed in 1.2. Use one of the class methods: ConfusionMatrixDisplay.from_predictions or ConfusionMatrixDisplay.from_estimator.\n",
      "  warnings.warn(msg, category=FutureWarning)\n"
     ]
    },
    {
     "data": {
      "image/png": "[encoded data removed]",
      "text/plain": [
       "<Figure size 432x288 with 2 Axes>"
      ]
     },
     "metadata": {
      "needs_background": "light"
     },
     "output_type": "display_data"
    }
   ],
   "source": [
    "from sklearn.tree import DecisionTreeClassifier\n",
    "classifier = DecisionTreeClassifier()\n",
    "parameters = {'criterion': ['entropy','gini'], \n",
    "              'max_depth': [2,3,4,5,6],\n",
    "              'min_samples_split': [5,10,20],\n",
    "              'min_samples_leaf': [5,10,20]}\n",
    "\n",
    "best_model_tree = hyperp_search2(classifier, parameters, 5, X_train, y_train, X_test, y_test)\n",
    "\n",
    "#Application of the Decision Tree classifier to the dataset with the optimal\n",
    "#parameters found in a grid-search step and plotting of the ROC curve with its\n",
    "#relative AUC score.\n",
    "\n",
    "#model_tree = DecisionTreeClassifier(criterion='gini', max_depth=5, min_samples_leaf=5, min_samples_split=10)\n",
    "#fpr1,tpr1=roc(model_tree,X_train,y_train,X_test,y_test)\n"
   ]
  },
  {
   "cell_type": "code",
   "execution_count": null,
   "metadata": {
    "colab": {
     "base_uri": "https://localhost:8080/"
    },
    "id": "REzldoHzxG3H",
    "outputId": "c193bc5c-2808-4084-c103-c961cd6baed8"
   },
   "outputs": [
    {
     "name": "stdout",
     "output_type": "stream",
     "text": [
      "|--- z_chest_avg <= 4.53\n",
      "|   |--- y_chest_avg <= 11.42\n",
      "|   |   |--- z_chest_avg <= -40.43\n",
      "|   |   |   |--- class: 9\n",
      "|   |   |--- z_chest_avg >  -40.43\n",
      "|   |   |   |--- y_chest_avg <= -39.72\n",
      "|   |   |   |   |--- class: 10\n",
      "|   |   |   |--- y_chest_avg >  -39.72\n",
      "|   |   |   |   |--- class: 12\n",
      "|   |--- y_chest_avg >  11.42\n",
      "|   |   |--- x_chest_avg <= 10.34\n",
      "|   |   |   |--- class: 1\n",
      "|   |   |--- x_chest_avg >  10.34\n",
      "|   |   |   |--- x_chest_avg <= 16.93\n",
      "|   |   |   |   |--- class: 3\n",
      "|   |   |   |--- x_chest_avg >  16.93\n",
      "|   |   |   |   |--- class: 2\n",
      "|--- z_chest_avg >  4.53\n",
      "|   |--- z_chest_avg <= 119.95\n",
      "|   |   |--- z_ankle_avg <= -2.97\n",
      "|   |   |   |--- class: 11\n",
      "|   |   |--- z_ankle_avg >  -2.97\n",
      "|   |   |   |--- y_chest_avg <= -119.59\n",
      "|   |   |   |   |--- class: 8\n",
      "|   |   |   |--- y_chest_avg >  -119.59\n",
      "|   |   |   |   |--- class: 7\n",
      "|   |--- z_chest_avg >  119.95\n",
      "|   |   |--- z_ankle_avg <= -128.34\n",
      "|   |   |   |--- class: 5\n",
      "|   |   |--- z_ankle_avg >  -128.34\n",
      "|   |   |   |--- z_chest_avg <= 230.34\n",
      "|   |   |   |   |--- class: 4\n",
      "|   |   |   |--- z_chest_avg >  230.34\n",
      "|   |   |   |   |--- class: 6\n",
      "\n"
     ]
    }
   ],
   "source": [
    "r = tree.export_text(best_model_tree, feature_names=X_test.columns.tolist(), max_depth=5)\n",
    "print(r)"
   ]
  },
  {
   "cell_type": "markdown",
   "metadata": {
    "id": "a4pVFnu5ID9C"
   },
   "source": [
    "# RANDOM FOREST"
   ]
  },
  {
   "cell_type": "code",
   "execution_count": null,
   "metadata": {
    "id": "qXESA4XyxCEm"
   },
   "outputs": [],
   "source": []
  },
  {
   "cell_type": "code",
   "execution_count": null,
   "metadata": {
    "colab": {
     "base_uri": "https://localhost:8080/",
     "height": 235
    },
    "id": "STBQOEi-IG6i",
    "outputId": "77feb274-5c23-417c-e4e4-4afe2c035a06"
   },
   "outputs": [
    {
     "ename": "TypeError",
     "evalue": "ignored",
     "output_type": "error",
     "traceback": [
      "\u001b[0;31m---------------------------------------------------------------------------\u001b[0m",
      "\u001b[0;31mTypeError\u001b[0m                                 Traceback (most recent call last)",
      "\u001b[0;32m<ipython-input-20-e6f4d4403a3f>\u001b[0m in \u001b[0;36m<module>\u001b[0;34m()\u001b[0m\n\u001b[1;32m      2\u001b[0m \u001b[0mclassifier\u001b[0m \u001b[0;34m=\u001b[0m \u001b[0mRandomForestClassifier\u001b[0m\u001b[0;34m(\u001b[0m\u001b[0;34m)\u001b[0m\u001b[0;34m\u001b[0m\u001b[0;34m\u001b[0m\u001b[0m\n\u001b[1;32m      3\u001b[0m \u001b[0mparameters\u001b[0m \u001b[0;34m=\u001b[0m \u001b[0;34m{\u001b[0m\u001b[0;34m\"n_estimators\"\u001b[0m\u001b[0;34m:\u001b[0m\u001b[0;34m[\u001b[0m\u001b[0;36m16\u001b[0m\u001b[0;34m]\u001b[0m\u001b[0;34m,\u001b[0m \u001b[0;34m\"criterion\"\u001b[0m\u001b[0;34m:\u001b[0m\u001b[0;34m[\u001b[0m\u001b[0;34m'entropy'\u001b[0m\u001b[0;34m]\u001b[0m\u001b[0;34m,\u001b[0m \u001b[0;34m\"max_depth\"\u001b[0m\u001b[0;34m:\u001b[0m\u001b[0;34m[\u001b[0m\u001b[0;36m20\u001b[0m\u001b[0;34m]\u001b[0m\u001b[0;34m,\u001b[0m \u001b[0;34m\"min_samples_split\"\u001b[0m\u001b[0;34m:\u001b[0m\u001b[0;34m[\u001b[0m\u001b[0;36m10\u001b[0m\u001b[0;34m]\u001b[0m\u001b[0;34m,\u001b[0m \u001b[0;34m\"min_samples_leaf\"\u001b[0m\u001b[0;34m:\u001b[0m\u001b[0;34m[\u001b[0m\u001b[0;36m5\u001b[0m\u001b[0;34m]\u001b[0m\u001b[0;34m}\u001b[0m\u001b[0;34m\u001b[0m\u001b[0;34m\u001b[0m\u001b[0m\n\u001b[0;32m----> 4\u001b[0;31m \u001b[0mhyperp_search2\u001b[0m\u001b[0;34m(\u001b[0m\u001b[0mclassifier\u001b[0m\u001b[0;34m,\u001b[0m\u001b[0mparameters\u001b[0m\u001b[0;34m)\u001b[0m\u001b[0;34m\u001b[0m\u001b[0;34m\u001b[0m\u001b[0m\n\u001b[0m\u001b[1;32m      5\u001b[0m \u001b[0;34m\u001b[0m\u001b[0m\n\u001b[1;32m      6\u001b[0m \u001b[0;31m#rand_forest=RandomForestClassifier(n_estimators=40,criterion='entropy',max_depth=15,min_samples_split=20,min_samples_leaf=10)\u001b[0m\u001b[0;34m\u001b[0m\u001b[0;34m\u001b[0m\u001b[0;34m\u001b[0m\u001b[0m\n",
      "\u001b[0;31mTypeError\u001b[0m: hyperp_search2() missing 5 required positional arguments: 'k', 'X_train', 'y_train', 'X_test', and 'y_test'"
     ]
    }
   ],
   "source": [
    "from sklearn.ensemble import RandomForestClassifier\n",
    "classifier = RandomForestClassifier()\n",
    "parameters = {\"n_estimators\":[16], \"criterion\":['entropy'], \"max_depth\":[20], \"min_samples_split\":[10], \"min_samples_leaf\":[5]}\n",
    "best_model_rf = hyperp_search2(classifier, parameters, 5, X_train, y_train, X_test, y_test)\n",
    "#rand_forest=RandomForestClassifier(n_estimators=40,criterion='entropy',max_depth=15,min_samples_split=20,min_samples_leaf=10)\n",
    "#fpr2,tpr2=roc(rand_forest,X_train,y_train,X_test,y_test)"
   ]
  },
  {
   "cell_type": "markdown",
   "metadata": {
    "id": "RrbAeNsRIQ5C"
   },
   "source": [
    "# ADABOOST"
   ]
  },
  {
   "cell_type": "code",
   "execution_count": null,
   "metadata": {
    "colab": {
     "base_uri": "https://localhost:8080/"
    },
    "id": "E-LgjuwQITaL",
    "outputId": "d8ecb524-f5f1-442b-f251-1b78fb8c1619"
   },
   "outputs": [
    {
     "name": "stderr",
     "output_type": "stream",
     "text": [
      "/usr/local/lib/python3.7/dist-packages/sklearn/utils/validation.py:993: DataConversionWarning: A column-vector y was passed when a 1d array was expected. Please change the shape of y to (n_samples, ), for example using ravel().\n",
      "  y = column_or_1d(y, warn=True)\n"
     ]
    },
    {
     "name": "stdout",
     "output_type": "stream",
     "text": [
      "***GRIDSEARCH RESULTS***\n",
      "f1_test:  1.0\n",
      "[[4 0 0 0 0 0 0 0 0 0 0 0]\n",
      " [0 4 0 0 0 0 0 0 0 0 0 0]\n",
      " [0 0 4 0 0 0 0 0 0 0 0 0]\n",
      " [0 0 0 4 0 0 0 0 0 0 0 0]\n",
      " [0 0 0 0 4 0 0 0 0 0 0 0]\n",
      " [0 0 0 0 0 4 0 0 0 0 0 0]\n",
      " [0 0 0 0 0 0 4 0 0 0 0 0]\n",
      " [0 0 0 0 0 0 0 4 0 0 0 0]\n",
      " [0 0 0 0 0 0 0 0 4 0 0 0]\n",
      " [0 0 0 0 0 0 0 0 0 4 0 0]\n",
      " [0 0 0 0 0 0 0 0 0 0 4 0]\n",
      " [0 0 0 0 0 0 0 0 0 0 0 4]]\n",
      "              precision    recall  f1-score   support\n",
      "\n",
      "           1       1.00      1.00      1.00         4\n",
      "           2       1.00      1.00      1.00         4\n",
      "           3       1.00      1.00      1.00         4\n",
      "           4       1.00      1.00      1.00         4\n",
      "           5       1.00      1.00      1.00         4\n",
      "           6       1.00      1.00      1.00         4\n",
      "           7       1.00      1.00      1.00         4\n",
      "           8       1.00      1.00      1.00         4\n",
      "           9       1.00      1.00      1.00         4\n",
      "          10       1.00      1.00      1.00         4\n",
      "          11       1.00      1.00      1.00         4\n",
      "          12       1.00      1.00      1.00         4\n",
      "\n",
      "    accuracy                           1.00        48\n",
      "   macro avg       1.00      1.00      1.00        48\n",
      "weighted avg       1.00      1.00      1.00        48\n",
      "\n"
     ]
    }
   ],
   "source": [
    "from sklearn.model_selection import GridSearchCV\n",
    "from sklearn.ensemble import AdaBoostClassifier\n",
    "\n",
    "classifier= AdaBoostClassifier()\n",
    "parameters = {'n_estimators' : np.arange(1500,2500,500),\n",
    "    'learning_rate' : [0.001,0.01,0.1]}\n",
    "\n",
    "hyperp_search(classifier,parameters)\n",
    "\n",
    "#adaboostclass = AdaBoostClassifier(n_estimators=2000, learning_rate=0.01)\n",
    "\n",
    "#fpr3,tpr3=roc(adaboostclass,X_train,y_train,X_test,y_test)"
   ]
  },
  {
   "cell_type": "markdown",
   "metadata": {
    "id": "I0q93qmkIYhi"
   },
   "source": [
    "# LOGISTIC REGRESSION"
   ]
  },
  {
   "cell_type": "code",
   "execution_count": null,
   "metadata": {
    "id": "BV23f-cPIcAC"
   },
   "outputs": [],
   "source": [
    "from sklearn.linear_model import LogisticRegression\n",
    "\n",
    "classifier = LogisticRegression()\n",
    "parameters = {\"C\":[0.01,0.1,1],\"max_iter\":[10000],\"penalty\":['l2']}\n",
    "\n",
    "hyperp_search(classifier,parameters)\n",
    "\n",
    "#model_log = LogisticRegression(C=0.1, max_iter=10000, penalty='l2')\n",
    "\n",
    "#fpr5,tpr5=roc(model_log,X_train,y_train,X_test,y_test)"
   ]
  },
  {
   "cell_type": "markdown",
   "metadata": {
    "id": "Xp4swUpTIdqO"
   },
   "source": [
    "##### ADABOOST WITH LOGISTIC REGRESSION"
   ]
  },
  {
   "cell_type": "code",
   "execution_count": null,
   "metadata": {
    "id": "OlTtRrzYIiHh"
   },
   "outputs": [],
   "source": [
    "from sklearn.model_selection import GridSearchCV\n",
    "from sklearn.ensemble import AdaBoostClassifier\n",
    "from sklearn.linear_model import LogisticRegression\n",
    "\n",
    "#classifier= AdaBoostClassifier()\n",
    "#parameters = {'n_estimators' : [2000], 'algorithm':['SAMME'],\n",
    "#    'learning_rate' : [0.01] , 'base_estimator':['LogisticRegression()']}\n",
    "\n",
    "#hyperp_search(classifier,parameters)\n",
    "\n",
    "adaboostclass = AdaBoostClassifier(n_estimators=2000, learning_rate=0.01, \n",
    "                                   base_estimator=LogisticRegression(C=0.1, max_iter=10000, penalty='l2'))\n",
    "adaboostclass.fit(X_train, y_train)\n",
    "\n",
    "y2_pred = adaboostclass.predict(X_test)\n",
    "\n",
    "#y2=y_test.Target\n",
    "print(\"f1_test: \", f1_score(y_test, y2_pred))\n",
    "print(confusion_matrix(y_test, y2_pred))\n",
    "print(classification_report(y_test, y2_pred))\n",
    "\n",
    "fpr3,tpr3=roc(adaboostclass,X_train,y_train,X_test,y_test)"
   ]
  },
  {
   "cell_type": "markdown",
   "metadata": {
    "id": "3ox7lCCQIkQA"
   },
   "source": [
    "# SVM"
   ]
  },
  {
   "cell_type": "code",
   "execution_count": null,
   "metadata": {
    "id": "o_lFkAuMInWt"
   },
   "outputs": [],
   "source": [
    "from sklearn.svm import SVC\n",
    "\n",
    "classifier = SVC()\n",
    "parameters = {\"kernel\":['linear'], \"C\":[0.01,0.1]}\n",
    "\n",
    "hyperp_search(classifier,parameters)\n",
    "\n",
    "#model_svm = SVC(C=1, kernel='linear',probability=True)\n",
    "\n",
    "#fpr6,tpr6=roc(model_svm,X_train,y_train,X_test,y_test)"
   ]
  },
  {
   "cell_type": "markdown",
   "metadata": {
    "id": "4Ag97y_yIpHU"
   },
   "source": [
    "# NEURAL NETWORK"
   ]
  },
  {
   "cell_type": "code",
   "execution_count": null,
   "metadata": {
    "id": "ackLcmlDIvFG"
   },
   "outputs": [],
   "source": [
    "from sklearn.neural_network import MLPClassifier\n",
    "classifier = MLPClassifier()\n",
    "parameters = {\"hidden_layer_sizes\":[(10,8,5)],  \"max_iter\": [2500], \"alpha\": [1]}\n",
    "\n",
    "hyperp_search(classifier,parameters)\n",
    "#model_MLP=MLPClassifier(hidden_layer_sizes=(10,8,5), alpha=1, max_iter=5000)\n",
    "\n",
    "#fpr7,tpr7=roc(model_MLP,X_train,y_train,X_test,y_test)"
   ]
  },
  {
   "cell_type": "markdown",
   "metadata": {
    "id": "j5CzRbGwIxuI"
   },
   "source": [
    "# ROC COMPLESSIVA"
   ]
  },
  {
   "cell_type": "code",
   "execution_count": null,
   "metadata": {
    "id": "lo1TqzAqI262"
   },
   "outputs": [],
   "source": [
    "plt.plot(fpr0, tpr0, label= \"KNN\")\n",
    "plt.plot(fpr1, tpr1, label= \"Tree\")\n",
    "plt.plot(fpr2, tpr2, label= \"Forest\")\n",
    "plt.plot(fpr3, tpr3, label= \"Adaboost\")\n",
    "#plt.plot(fpr4, tpr4, label= \"Naive bayes\")    \n",
    "plt.plot(fpr5, tpr5, label= \"Logistic\")\n",
    "plt.plot(fpr6, tpr6, label= \"SVM\")\n",
    "plt.plot(fpr7, tpr7, label= \"NeuralNet\")\n",
    "plt.plot([0, 1], [0, 1], color='darkblue', linestyle='--')\n",
    "plt.xlabel('False Positive Rate')\n",
    "plt.ylabel('True Positive Rate')\n",
    "plt.title('Receiver Operating Characteristic (ROC) Curve')\n",
    "plt.legend()\n",
    "plt.show()"
   ]
  }
 ],
 "metadata": {
  "colab": {
   "collapsed_sections": [],
   "name": "Copie de Copia_di_Sleep_classifier.ipynb",
   "provenance": []
  },
  "kernelspec": {
   "display_name": "Python 3 (ipykernel)",
   "language": "python",
   "name": "python3"
  },
  "language_info": {
   "codemirror_mode": {
    "name": "ipython",
    "version": 3
   },
   "file_extension": ".py",
   "mimetype": "text/x-python",
   "name": "python",
   "nbconvert_exporter": "python",
   "pygments_lexer": "ipython3",
   "version": "3.10.4"
  }
 },
 "nbformat": 4,
 "nbformat_minor": 1
}
